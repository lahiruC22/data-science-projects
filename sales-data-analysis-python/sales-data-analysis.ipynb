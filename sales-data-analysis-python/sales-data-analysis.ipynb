{
 "cells": [
  {
   "cell_type": "markdown",
   "id": "b2c7c73e",
   "metadata": {
    "papermill": {
     "duration": 0.043603,
     "end_time": "2021-12-04T07:47:09.588104",
     "exception": false,
     "start_time": "2021-12-04T07:47:09.544501",
     "status": "completed"
    },
    "tags": []
   },
   "source": [
    "### Introduction.\n",
    "This data analysis is based on a course that I recently followed on Udemy.\n",
    "#### Table of content\n",
    "1. Importing necessary libraries\n",
    "2. Data cleaning and Data preparation\n",
    "3. Analyzing monthly sales\n",
    "4. Order quantity and city analysis of those orders\n",
    "5. Analyze the quantity of orders and the time at which those orders were placed.\n",
    "6. Analyzing Product sold counts\n",
    "7. Analyzing products that most often sold together"
   ]
  },
  {
   "cell_type": "markdown",
   "id": "f2148295",
   "metadata": {
    "papermill": {
     "duration": 0.04222,
     "end_time": "2021-12-04T07:47:09.673542",
     "exception": false,
     "start_time": "2021-12-04T07:47:09.631322",
     "status": "completed"
    },
    "tags": []
   },
   "source": [
    "### Importing necessary libraries."
   ]
  },
  {
   "cell_type": "code",
   "execution_count": 1,
   "id": "9c2f4e28",
   "metadata": {
    "_cell_guid": "b1076dfc-b9ad-4769-8c92-a6c4dae69d19",
    "_uuid": "8f2839f25d086af736a60e9eeb907d3b93b6e0e5",
    "execution": {
     "iopub.execute_input": "2021-12-04T07:47:09.764151Z",
     "iopub.status.busy": "2021-12-04T07:47:09.762758Z",
     "iopub.status.idle": "2021-12-04T07:47:10.702913Z",
     "shell.execute_reply": "2021-12-04T07:47:10.702175Z",
     "shell.execute_reply.started": "2021-12-04T07:44:02.981282Z"
    },
    "papermill": {
     "duration": 0.986852,
     "end_time": "2021-12-04T07:47:10.703094",
     "exception": false,
     "start_time": "2021-12-04T07:47:09.716242",
     "status": "completed"
    },
    "tags": []
   },
   "outputs": [],
   "source": [
    "import numpy as np\n",
    "import pandas as pd\n",
    "\n",
    "import matplotlib.pyplot as plt\n",
    "from matplotlib import style\n",
    "style.use('ggplot')\n",
    "\n",
    "import seaborn as sns\n",
    "\n",
    "import plotly.graph_objs as go\n",
    "from plotly.offline import iplot\n",
    "\n",
    "import os\n"
   ]
  },
  {
   "cell_type": "markdown",
   "id": "3c2878a0",
   "metadata": {
    "papermill": {
     "duration": 0.043423,
     "end_time": "2021-12-04T07:47:10.790304",
     "exception": false,
     "start_time": "2021-12-04T07:47:10.746881",
     "status": "completed"
    },
    "tags": []
   },
   "source": [
    "### Data cleaning and Data preparation."
   ]
  },
  {
   "cell_type": "code",
   "execution_count": 2,
   "id": "69fe76f7",
   "metadata": {
    "execution": {
     "iopub.execute_input": "2021-12-04T07:47:10.883097Z",
     "iopub.status.busy": "2021-12-04T07:47:10.882297Z",
     "iopub.status.idle": "2021-12-04T07:47:10.894914Z",
     "shell.execute_reply": "2021-12-04T07:47:10.895456Z",
     "shell.execute_reply.started": "2021-12-04T07:44:02.990618Z"
    },
    "papermill": {
     "duration": 0.061863,
     "end_time": "2021-12-04T07:47:10.895625",
     "exception": false,
     "start_time": "2021-12-04T07:47:10.833762",
     "status": "completed"
    },
    "tags": []
   },
   "outputs": [
    {
     "name": "stdout",
     "output_type": "stream",
     "text": [
      "Sales_August_2019.csv\n",
      "Sales_May_2019.csv\n",
      "Sales_February_2019.csv\n",
      "Sales_November_2019.csv\n",
      "Sales_January_2019.csv\n",
      "Sales_March_2019.csv\n",
      "Sales_September_2019.csv\n",
      "Sales_April_2019.csv\n",
      "Sales_July_2019.csv\n",
      "Sales_October_2019.csv\n",
      "Sales_June_2019.csv\n",
      "Sales_December_2019.csv\n"
     ]
    }
   ],
   "source": [
    "dir = os.listdir('../input/sales-data')\n",
    "files = [file for file in dir]\n",
    "for file in files:\n",
    "    print(file)"
   ]
  },
  {
   "cell_type": "code",
   "execution_count": 3,
   "id": "6220c551",
   "metadata": {
    "execution": {
     "iopub.execute_input": "2021-12-04T07:47:10.986613Z",
     "iopub.status.busy": "2021-12-04T07:47:10.985419Z",
     "iopub.status.idle": "2021-12-04T07:47:11.893550Z",
     "shell.execute_reply": "2021-12-04T07:47:11.892310Z",
     "shell.execute_reply.started": "2021-12-04T07:44:03.011360Z"
    },
    "papermill": {
     "duration": 0.954565,
     "end_time": "2021-12-04T07:47:11.893745",
     "exception": false,
     "start_time": "2021-12-04T07:47:10.939180",
     "status": "completed"
    },
    "tags": []
   },
   "outputs": [],
   "source": [
    "path = '../input/sales-data'\n",
    "\n",
    "# create a blank dataframe\n",
    "all_data = pd.DataFrame()\n",
    "\n",
    "for file in files:\n",
    "    current_df = pd.read_csv(path+\"/\"+file)\n",
    "    all_data = pd.concat([all_data,current_df])"
   ]
  },
  {
   "cell_type": "code",
   "execution_count": 4,
   "id": "2b1afe01",
   "metadata": {
    "execution": {
     "iopub.execute_input": "2021-12-04T07:47:12.052399Z",
     "iopub.status.busy": "2021-12-04T07:47:12.051543Z",
     "iopub.status.idle": "2021-12-04T07:47:12.065831Z",
     "shell.execute_reply": "2021-12-04T07:47:12.066327Z",
     "shell.execute_reply.started": "2021-12-04T07:44:03.549786Z"
    },
    "papermill": {
     "duration": 0.128899,
     "end_time": "2021-12-04T07:47:12.066509",
     "exception": false,
     "start_time": "2021-12-04T07:47:11.937610",
     "status": "completed"
    },
    "tags": []
   },
   "outputs": [
    {
     "data": {
      "text/html": [
       "<div>\n",
       "<style scoped>\n",
       "    .dataframe tbody tr th:only-of-type {\n",
       "        vertical-align: middle;\n",
       "    }\n",
       "\n",
       "    .dataframe tbody tr th {\n",
       "        vertical-align: top;\n",
       "    }\n",
       "\n",
       "    .dataframe thead th {\n",
       "        text-align: right;\n",
       "    }\n",
       "</style>\n",
       "<table border=\"1\" class=\"dataframe\">\n",
       "  <thead>\n",
       "    <tr style=\"text-align: right;\">\n",
       "      <th></th>\n",
       "      <th>Order ID</th>\n",
       "      <th>Product</th>\n",
       "      <th>Quantity Ordered</th>\n",
       "      <th>Price Each</th>\n",
       "      <th>Order Date</th>\n",
       "      <th>Purchase Address</th>\n",
       "    </tr>\n",
       "  </thead>\n",
       "  <tbody>\n",
       "    <tr>\n",
       "      <th>0</th>\n",
       "      <td>236670</td>\n",
       "      <td>Wired Headphones</td>\n",
       "      <td>2</td>\n",
       "      <td>11.99</td>\n",
       "      <td>08/31/19 22:21</td>\n",
       "      <td>359 Spruce St, Seattle, WA 98101</td>\n",
       "    </tr>\n",
       "    <tr>\n",
       "      <th>1</th>\n",
       "      <td>236671</td>\n",
       "      <td>Bose SoundSport Headphones</td>\n",
       "      <td>1</td>\n",
       "      <td>99.99</td>\n",
       "      <td>08/15/19 15:11</td>\n",
       "      <td>492 Ridge St, Dallas, TX 75001</td>\n",
       "    </tr>\n",
       "    <tr>\n",
       "      <th>2</th>\n",
       "      <td>236672</td>\n",
       "      <td>iPhone</td>\n",
       "      <td>1</td>\n",
       "      <td>700.0</td>\n",
       "      <td>08/06/19 14:40</td>\n",
       "      <td>149 7th St, Portland, OR 97035</td>\n",
       "    </tr>\n",
       "    <tr>\n",
       "      <th>3</th>\n",
       "      <td>236673</td>\n",
       "      <td>AA Batteries (4-pack)</td>\n",
       "      <td>2</td>\n",
       "      <td>3.84</td>\n",
       "      <td>08/29/19 20:59</td>\n",
       "      <td>631 2nd St, Los Angeles, CA 90001</td>\n",
       "    </tr>\n",
       "    <tr>\n",
       "      <th>4</th>\n",
       "      <td>236674</td>\n",
       "      <td>AA Batteries (4-pack)</td>\n",
       "      <td>2</td>\n",
       "      <td>3.84</td>\n",
       "      <td>08/15/19 19:53</td>\n",
       "      <td>736 14th St, New York City, NY 10001</td>\n",
       "    </tr>\n",
       "  </tbody>\n",
       "</table>\n",
       "</div>"
      ],
      "text/plain": [
       "  Order ID                     Product Quantity Ordered Price Each  \\\n",
       "0   236670            Wired Headphones                2      11.99   \n",
       "1   236671  Bose SoundSport Headphones                1      99.99   \n",
       "2   236672                      iPhone                1      700.0   \n",
       "3   236673       AA Batteries (4-pack)                2       3.84   \n",
       "4   236674       AA Batteries (4-pack)                2       3.84   \n",
       "\n",
       "       Order Date                      Purchase Address  \n",
       "0  08/31/19 22:21      359 Spruce St, Seattle, WA 98101  \n",
       "1  08/15/19 15:11        492 Ridge St, Dallas, TX 75001  \n",
       "2  08/06/19 14:40        149 7th St, Portland, OR 97035  \n",
       "3  08/29/19 20:59     631 2nd St, Los Angeles, CA 90001  \n",
       "4  08/15/19 19:53  736 14th St, New York City, NY 10001  "
      ]
     },
     "execution_count": 4,
     "metadata": {},
     "output_type": "execute_result"
    }
   ],
   "source": [
    "all_data.head()"
   ]
  },
  {
   "cell_type": "code",
   "execution_count": 5,
   "id": "b6058eb8",
   "metadata": {
    "execution": {
     "iopub.execute_input": "2021-12-04T07:47:12.157372Z",
     "iopub.status.busy": "2021-12-04T07:47:12.156738Z",
     "iopub.status.idle": "2021-12-04T07:47:12.160941Z",
     "shell.execute_reply": "2021-12-04T07:47:12.161507Z",
     "shell.execute_reply.started": "2021-12-04T07:44:03.568231Z"
    },
    "papermill": {
     "duration": 0.051374,
     "end_time": "2021-12-04T07:47:12.161693",
     "exception": false,
     "start_time": "2021-12-04T07:47:12.110319",
     "status": "completed"
    },
    "tags": []
   },
   "outputs": [
    {
     "data": {
      "text/plain": [
       "(186850, 6)"
      ]
     },
     "execution_count": 5,
     "metadata": {},
     "output_type": "execute_result"
    }
   ],
   "source": [
    "all_data.shape"
   ]
  },
  {
   "cell_type": "code",
   "execution_count": 6,
   "id": "36db01e4",
   "metadata": {
    "execution": {
     "iopub.execute_input": "2021-12-04T07:47:12.252850Z",
     "iopub.status.busy": "2021-12-04T07:47:12.252168Z",
     "iopub.status.idle": "2021-12-04T07:47:13.296251Z",
     "shell.execute_reply": "2021-12-04T07:47:13.295629Z",
     "shell.execute_reply.started": "2021-12-04T07:44:03.577623Z"
    },
    "papermill": {
     "duration": 1.090587,
     "end_time": "2021-12-04T07:47:13.296394",
     "exception": false,
     "start_time": "2021-12-04T07:47:12.205807",
     "status": "completed"
    },
    "tags": []
   },
   "outputs": [],
   "source": [
    "# export the data frame to a csv file\n",
    "all_data.to_csv('./all_data.csv', index=False)"
   ]
  },
  {
   "cell_type": "code",
   "execution_count": 7,
   "id": "c96ffb07",
   "metadata": {
    "execution": {
     "iopub.execute_input": "2021-12-04T07:47:13.509958Z",
     "iopub.status.busy": "2021-12-04T07:47:13.509244Z",
     "iopub.status.idle": "2021-12-04T07:47:13.515890Z",
     "shell.execute_reply": "2021-12-04T07:47:13.516394Z",
     "shell.execute_reply.started": "2021-12-04T07:44:04.685732Z"
    },
    "papermill": {
     "duration": 0.176021,
     "end_time": "2021-12-04T07:47:13.516564",
     "exception": false,
     "start_time": "2021-12-04T07:47:13.340543",
     "status": "completed"
    },
    "tags": []
   },
   "outputs": [
    {
     "data": {
      "text/plain": [
       "Order ID            545\n",
       "Product             545\n",
       "Quantity Ordered    545\n",
       "Price Each          545\n",
       "Order Date          545\n",
       "Purchase Address    545\n",
       "dtype: int64"
      ]
     },
     "execution_count": 7,
     "metadata": {},
     "output_type": "execute_result"
    }
   ],
   "source": [
    "# check null values and get sum of them for each coloumn.\n",
    "all_data.isnull().sum()"
   ]
  },
  {
   "cell_type": "code",
   "execution_count": 8,
   "id": "27bb8a4e",
   "metadata": {
    "execution": {
     "iopub.execute_input": "2021-12-04T07:47:13.608487Z",
     "iopub.status.busy": "2021-12-04T07:47:13.607870Z",
     "iopub.status.idle": "2021-12-04T07:47:13.755519Z",
     "shell.execute_reply": "2021-12-04T07:47:13.754843Z",
     "shell.execute_reply.started": "2021-12-04T07:44:04.821136Z"
    },
    "papermill": {
     "duration": 0.194807,
     "end_time": "2021-12-04T07:47:13.755697",
     "exception": false,
     "start_time": "2021-12-04T07:47:13.560890",
     "status": "completed"
    },
    "tags": []
   },
   "outputs": [],
   "source": [
    "# drop all the missing values with their rows.\n",
    "all_data = all_data.dropna(how='all')"
   ]
  },
  {
   "cell_type": "code",
   "execution_count": 9,
   "id": "5e8657ee",
   "metadata": {
    "execution": {
     "iopub.execute_input": "2021-12-04T07:47:13.851113Z",
     "iopub.status.busy": "2021-12-04T07:47:13.850411Z",
     "iopub.status.idle": "2021-12-04T07:47:13.854988Z",
     "shell.execute_reply": "2021-12-04T07:47:13.855567Z",
     "shell.execute_reply.started": "2021-12-04T07:44:04.968021Z"
    },
    "papermill": {
     "duration": 0.054999,
     "end_time": "2021-12-04T07:47:13.855795",
     "exception": false,
     "start_time": "2021-12-04T07:47:13.800796",
     "status": "completed"
    },
    "tags": []
   },
   "outputs": [
    {
     "data": {
      "text/plain": [
       "(186305, 6)"
      ]
     },
     "execution_count": 9,
     "metadata": {},
     "output_type": "execute_result"
    }
   ],
   "source": [
    "all_data.shape"
   ]
  },
  {
   "cell_type": "markdown",
   "id": "6f92550e",
   "metadata": {
    "papermill": {
     "duration": 0.044534,
     "end_time": "2021-12-04T07:47:13.945524",
     "exception": false,
     "start_time": "2021-12-04T07:47:13.900990",
     "status": "completed"
    },
    "tags": []
   },
   "source": [
    "### Analyzing monthly sales.\n"
   ]
  },
  {
   "cell_type": "code",
   "execution_count": 10,
   "id": "49393946",
   "metadata": {
    "execution": {
     "iopub.execute_input": "2021-12-04T07:47:14.039166Z",
     "iopub.status.busy": "2021-12-04T07:47:14.038485Z",
     "iopub.status.idle": "2021-12-04T07:47:14.049147Z",
     "shell.execute_reply": "2021-12-04T07:47:14.049769Z",
     "shell.execute_reply.started": "2021-12-04T07:44:04.977189Z"
    },
    "papermill": {
     "duration": 0.059202,
     "end_time": "2021-12-04T07:47:14.049947",
     "exception": false,
     "start_time": "2021-12-04T07:47:13.990745",
     "status": "completed"
    },
    "tags": []
   },
   "outputs": [
    {
     "data": {
      "text/html": [
       "<div>\n",
       "<style scoped>\n",
       "    .dataframe tbody tr th:only-of-type {\n",
       "        vertical-align: middle;\n",
       "    }\n",
       "\n",
       "    .dataframe tbody tr th {\n",
       "        vertical-align: top;\n",
       "    }\n",
       "\n",
       "    .dataframe thead th {\n",
       "        text-align: right;\n",
       "    }\n",
       "</style>\n",
       "<table border=\"1\" class=\"dataframe\">\n",
       "  <thead>\n",
       "    <tr style=\"text-align: right;\">\n",
       "      <th></th>\n",
       "      <th>Order ID</th>\n",
       "      <th>Product</th>\n",
       "      <th>Quantity Ordered</th>\n",
       "      <th>Price Each</th>\n",
       "      <th>Order Date</th>\n",
       "      <th>Purchase Address</th>\n",
       "    </tr>\n",
       "  </thead>\n",
       "  <tbody>\n",
       "    <tr>\n",
       "      <th>0</th>\n",
       "      <td>236670</td>\n",
       "      <td>Wired Headphones</td>\n",
       "      <td>2</td>\n",
       "      <td>11.99</td>\n",
       "      <td>08/31/19 22:21</td>\n",
       "      <td>359 Spruce St, Seattle, WA 98101</td>\n",
       "    </tr>\n",
       "    <tr>\n",
       "      <th>1</th>\n",
       "      <td>236671</td>\n",
       "      <td>Bose SoundSport Headphones</td>\n",
       "      <td>1</td>\n",
       "      <td>99.99</td>\n",
       "      <td>08/15/19 15:11</td>\n",
       "      <td>492 Ridge St, Dallas, TX 75001</td>\n",
       "    </tr>\n",
       "    <tr>\n",
       "      <th>2</th>\n",
       "      <td>236672</td>\n",
       "      <td>iPhone</td>\n",
       "      <td>1</td>\n",
       "      <td>700.0</td>\n",
       "      <td>08/06/19 14:40</td>\n",
       "      <td>149 7th St, Portland, OR 97035</td>\n",
       "    </tr>\n",
       "    <tr>\n",
       "      <th>3</th>\n",
       "      <td>236673</td>\n",
       "      <td>AA Batteries (4-pack)</td>\n",
       "      <td>2</td>\n",
       "      <td>3.84</td>\n",
       "      <td>08/29/19 20:59</td>\n",
       "      <td>631 2nd St, Los Angeles, CA 90001</td>\n",
       "    </tr>\n",
       "    <tr>\n",
       "      <th>4</th>\n",
       "      <td>236674</td>\n",
       "      <td>AA Batteries (4-pack)</td>\n",
       "      <td>2</td>\n",
       "      <td>3.84</td>\n",
       "      <td>08/15/19 19:53</td>\n",
       "      <td>736 14th St, New York City, NY 10001</td>\n",
       "    </tr>\n",
       "  </tbody>\n",
       "</table>\n",
       "</div>"
      ],
      "text/plain": [
       "  Order ID                     Product Quantity Ordered Price Each  \\\n",
       "0   236670            Wired Headphones                2      11.99   \n",
       "1   236671  Bose SoundSport Headphones                1      99.99   \n",
       "2   236672                      iPhone                1      700.0   \n",
       "3   236673       AA Batteries (4-pack)                2       3.84   \n",
       "4   236674       AA Batteries (4-pack)                2       3.84   \n",
       "\n",
       "       Order Date                      Purchase Address  \n",
       "0  08/31/19 22:21      359 Spruce St, Seattle, WA 98101  \n",
       "1  08/15/19 15:11        492 Ridge St, Dallas, TX 75001  \n",
       "2  08/06/19 14:40        149 7th St, Portland, OR 97035  \n",
       "3  08/29/19 20:59     631 2nd St, Los Angeles, CA 90001  \n",
       "4  08/15/19 19:53  736 14th St, New York City, NY 10001  "
      ]
     },
     "execution_count": 10,
     "metadata": {},
     "output_type": "execute_result"
    }
   ],
   "source": [
    "all_data.head()"
   ]
  },
  {
   "cell_type": "code",
   "execution_count": 11,
   "id": "c3e9b54f",
   "metadata": {
    "execution": {
     "iopub.execute_input": "2021-12-04T07:47:14.149623Z",
     "iopub.status.busy": "2021-12-04T07:47:14.144573Z",
     "iopub.status.idle": "2021-12-04T07:47:14.250782Z",
     "shell.execute_reply": "2021-12-04T07:47:14.250182Z",
     "shell.execute_reply.started": "2021-12-04T07:44:05.001502Z"
    },
    "papermill": {
     "duration": 0.155477,
     "end_time": "2021-12-04T07:47:14.250929",
     "exception": false,
     "start_time": "2021-12-04T07:47:14.095452",
     "status": "completed"
    },
    "tags": []
   },
   "outputs": [],
   "source": [
    "# add a month column to the dataframe.\n",
    "def month(x):\n",
    "    return x.split('/')[0]\n",
    "all_data['month'] = all_data['Order Date'].apply(month)"
   ]
  },
  {
   "cell_type": "code",
   "execution_count": 12,
   "id": "16d2914a",
   "metadata": {
    "execution": {
     "iopub.execute_input": "2021-12-04T07:47:14.351423Z",
     "iopub.status.busy": "2021-12-04T07:47:14.350721Z",
     "iopub.status.idle": "2021-12-04T07:47:14.357695Z",
     "shell.execute_reply": "2021-12-04T07:47:14.358329Z",
     "shell.execute_reply.started": "2021-12-04T07:44:05.115730Z"
    },
    "papermill": {
     "duration": 0.061527,
     "end_time": "2021-12-04T07:47:14.358499",
     "exception": false,
     "start_time": "2021-12-04T07:47:14.296972",
     "status": "completed"
    },
    "tags": []
   },
   "outputs": [
    {
     "data": {
      "text/html": [
       "<div>\n",
       "<style scoped>\n",
       "    .dataframe tbody tr th:only-of-type {\n",
       "        vertical-align: middle;\n",
       "    }\n",
       "\n",
       "    .dataframe tbody tr th {\n",
       "        vertical-align: top;\n",
       "    }\n",
       "\n",
       "    .dataframe thead th {\n",
       "        text-align: right;\n",
       "    }\n",
       "</style>\n",
       "<table border=\"1\" class=\"dataframe\">\n",
       "  <thead>\n",
       "    <tr style=\"text-align: right;\">\n",
       "      <th></th>\n",
       "      <th>Order ID</th>\n",
       "      <th>Product</th>\n",
       "      <th>Quantity Ordered</th>\n",
       "      <th>Price Each</th>\n",
       "      <th>Order Date</th>\n",
       "      <th>Purchase Address</th>\n",
       "      <th>month</th>\n",
       "    </tr>\n",
       "  </thead>\n",
       "  <tbody>\n",
       "    <tr>\n",
       "      <th>0</th>\n",
       "      <td>236670</td>\n",
       "      <td>Wired Headphones</td>\n",
       "      <td>2</td>\n",
       "      <td>11.99</td>\n",
       "      <td>08/31/19 22:21</td>\n",
       "      <td>359 Spruce St, Seattle, WA 98101</td>\n",
       "      <td>08</td>\n",
       "    </tr>\n",
       "    <tr>\n",
       "      <th>1</th>\n",
       "      <td>236671</td>\n",
       "      <td>Bose SoundSport Headphones</td>\n",
       "      <td>1</td>\n",
       "      <td>99.99</td>\n",
       "      <td>08/15/19 15:11</td>\n",
       "      <td>492 Ridge St, Dallas, TX 75001</td>\n",
       "      <td>08</td>\n",
       "    </tr>\n",
       "    <tr>\n",
       "      <th>2</th>\n",
       "      <td>236672</td>\n",
       "      <td>iPhone</td>\n",
       "      <td>1</td>\n",
       "      <td>700.0</td>\n",
       "      <td>08/06/19 14:40</td>\n",
       "      <td>149 7th St, Portland, OR 97035</td>\n",
       "      <td>08</td>\n",
       "    </tr>\n",
       "    <tr>\n",
       "      <th>3</th>\n",
       "      <td>236673</td>\n",
       "      <td>AA Batteries (4-pack)</td>\n",
       "      <td>2</td>\n",
       "      <td>3.84</td>\n",
       "      <td>08/29/19 20:59</td>\n",
       "      <td>631 2nd St, Los Angeles, CA 90001</td>\n",
       "      <td>08</td>\n",
       "    </tr>\n",
       "    <tr>\n",
       "      <th>4</th>\n",
       "      <td>236674</td>\n",
       "      <td>AA Batteries (4-pack)</td>\n",
       "      <td>2</td>\n",
       "      <td>3.84</td>\n",
       "      <td>08/15/19 19:53</td>\n",
       "      <td>736 14th St, New York City, NY 10001</td>\n",
       "      <td>08</td>\n",
       "    </tr>\n",
       "  </tbody>\n",
       "</table>\n",
       "</div>"
      ],
      "text/plain": [
       "  Order ID                     Product Quantity Ordered Price Each  \\\n",
       "0   236670            Wired Headphones                2      11.99   \n",
       "1   236671  Bose SoundSport Headphones                1      99.99   \n",
       "2   236672                      iPhone                1      700.0   \n",
       "3   236673       AA Batteries (4-pack)                2       3.84   \n",
       "4   236674       AA Batteries (4-pack)                2       3.84   \n",
       "\n",
       "       Order Date                      Purchase Address month  \n",
       "0  08/31/19 22:21      359 Spruce St, Seattle, WA 98101    08  \n",
       "1  08/15/19 15:11        492 Ridge St, Dallas, TX 75001    08  \n",
       "2  08/06/19 14:40        149 7th St, Portland, OR 97035    08  \n",
       "3  08/29/19 20:59     631 2nd St, Los Angeles, CA 90001    08  \n",
       "4  08/15/19 19:53  736 14th St, New York City, NY 10001    08  "
      ]
     },
     "execution_count": 12,
     "metadata": {},
     "output_type": "execute_result"
    }
   ],
   "source": [
    "all_data.head()"
   ]
  },
  {
   "cell_type": "code",
   "execution_count": 13,
   "id": "9754b866",
   "metadata": {
    "execution": {
     "iopub.execute_input": "2021-12-04T07:47:14.454842Z",
     "iopub.status.busy": "2021-12-04T07:47:14.453861Z",
     "iopub.status.idle": "2021-12-04T07:47:14.459970Z",
     "shell.execute_reply": "2021-12-04T07:47:14.460479Z",
     "shell.execute_reply.started": "2021-12-04T07:44:05.132587Z"
    },
    "papermill": {
     "duration": 0.056231,
     "end_time": "2021-12-04T07:47:14.460731",
     "exception": false,
     "start_time": "2021-12-04T07:47:14.404500",
     "status": "completed"
    },
    "tags": []
   },
   "outputs": [
    {
     "data": {
      "text/plain": [
       "Order ID            object\n",
       "Product             object\n",
       "Quantity Ordered    object\n",
       "Price Each          object\n",
       "Order Date          object\n",
       "Purchase Address    object\n",
       "month               object\n",
       "dtype: object"
      ]
     },
     "execution_count": 13,
     "metadata": {},
     "output_type": "execute_result"
    }
   ],
   "source": [
    "# check the data types of each column\n",
    "all_data.dtypes"
   ]
  },
  {
   "cell_type": "code",
   "execution_count": 14,
   "id": "039e60f5",
   "metadata": {
    "execution": {
     "iopub.execute_input": "2021-12-04T07:47:14.565499Z",
     "iopub.status.busy": "2021-12-04T07:47:14.564823Z",
     "iopub.status.idle": "2021-12-04T07:47:14.581712Z",
     "shell.execute_reply": "2021-12-04T07:47:14.582313Z",
     "shell.execute_reply.started": "2021-12-04T07:44:05.147325Z"
    },
    "papermill": {
     "duration": 0.074184,
     "end_time": "2021-12-04T07:47:14.582484",
     "exception": false,
     "start_time": "2021-12-04T07:47:14.508300",
     "status": "completed"
    },
    "tags": []
   },
   "outputs": [
    {
     "data": {
      "text/plain": [
       "array(['08', 'Order Date', '09', '05', '06', '02', '03', '11', '12', '01',\n",
       "       '04', '10', '07'], dtype=object)"
      ]
     },
     "execution_count": 14,
     "metadata": {},
     "output_type": "execute_result"
    }
   ],
   "source": [
    "# check unique values of month.\n",
    "all_data['month'].unique()"
   ]
  },
  {
   "cell_type": "code",
   "execution_count": 15,
   "id": "0cb6379a",
   "metadata": {
    "execution": {
     "iopub.execute_input": "2021-12-04T07:47:14.678830Z",
     "iopub.status.busy": "2021-12-04T07:47:14.678188Z",
     "iopub.status.idle": "2021-12-04T07:47:14.783123Z",
     "shell.execute_reply": "2021-12-04T07:47:14.782403Z",
     "shell.execute_reply.started": "2021-12-04T07:44:05.177016Z"
    },
    "papermill": {
     "duration": 0.153824,
     "end_time": "2021-12-04T07:47:14.783278",
     "exception": false,
     "start_time": "2021-12-04T07:47:14.629454",
     "status": "completed"
    },
    "tags": []
   },
   "outputs": [],
   "source": [
    "# creating a filter.\n",
    "filter = all_data['month'] == 'Order Date'\n",
    "all_data = all_data[~filter]"
   ]
  },
  {
   "cell_type": "code",
   "execution_count": 16,
   "id": "c37ffcbb",
   "metadata": {
    "execution": {
     "iopub.execute_input": "2021-12-04T07:47:14.884692Z",
     "iopub.status.busy": "2021-12-04T07:47:14.883805Z",
     "iopub.status.idle": "2021-12-04T07:47:14.887075Z",
     "shell.execute_reply": "2021-12-04T07:47:14.887583Z",
     "shell.execute_reply.started": "2021-12-04T07:44:05.286094Z"
    },
    "papermill": {
     "duration": 0.05668,
     "end_time": "2021-12-04T07:47:14.887798",
     "exception": false,
     "start_time": "2021-12-04T07:47:14.831118",
     "status": "completed"
    },
    "tags": []
   },
   "outputs": [
    {
     "data": {
      "text/plain": [
       "(185950, 7)"
      ]
     },
     "execution_count": 16,
     "metadata": {},
     "output_type": "execute_result"
    }
   ],
   "source": [
    "all_data.shape"
   ]
  },
  {
   "cell_type": "code",
   "execution_count": 17,
   "id": "080ed954",
   "metadata": {
    "execution": {
     "iopub.execute_input": "2021-12-04T07:47:15.013176Z",
     "iopub.status.busy": "2021-12-04T07:47:15.012064Z",
     "iopub.status.idle": "2021-12-04T07:47:15.117013Z",
     "shell.execute_reply": "2021-12-04T07:47:15.116420Z",
     "shell.execute_reply.started": "2021-12-04T07:44:05.295287Z"
    },
    "papermill": {
     "duration": 0.182579,
     "end_time": "2021-12-04T07:47:15.117162",
     "exception": false,
     "start_time": "2021-12-04T07:47:14.934583",
     "status": "completed"
    },
    "tags": []
   },
   "outputs": [],
   "source": [
    "# changing the data types\n",
    "all_data['month'] = all_data['month'].astype(int)\n",
    "all_data['Quantity Ordered'] = all_data['Quantity Ordered'].astype(int)\n",
    "all_data['Price Each'] = all_data['Price Each'].astype(float)"
   ]
  },
  {
   "cell_type": "code",
   "execution_count": 18,
   "id": "67d2813d",
   "metadata": {
    "execution": {
     "iopub.execute_input": "2021-12-04T07:47:15.218114Z",
     "iopub.status.busy": "2021-12-04T07:47:15.217253Z",
     "iopub.status.idle": "2021-12-04T07:47:15.220436Z",
     "shell.execute_reply": "2021-12-04T07:47:15.220941Z",
     "shell.execute_reply.started": "2021-12-04T07:44:05.430925Z"
    },
    "papermill": {
     "duration": 0.056912,
     "end_time": "2021-12-04T07:47:15.221106",
     "exception": false,
     "start_time": "2021-12-04T07:47:15.164194",
     "status": "completed"
    },
    "tags": []
   },
   "outputs": [
    {
     "data": {
      "text/plain": [
       "Order ID             object\n",
       "Product              object\n",
       "Quantity Ordered      int64\n",
       "Price Each          float64\n",
       "Order Date           object\n",
       "Purchase Address     object\n",
       "month                 int64\n",
       "dtype: object"
      ]
     },
     "execution_count": 18,
     "metadata": {},
     "output_type": "execute_result"
    }
   ],
   "source": [
    "all_data.dtypes"
   ]
  },
  {
   "cell_type": "code",
   "execution_count": 19,
   "id": "dce21116",
   "metadata": {
    "execution": {
     "iopub.execute_input": "2021-12-04T07:47:15.320116Z",
     "iopub.status.busy": "2021-12-04T07:47:15.319120Z",
     "iopub.status.idle": "2021-12-04T07:47:15.334671Z",
     "shell.execute_reply": "2021-12-04T07:47:15.335181Z",
     "shell.execute_reply.started": "2021-12-04T07:44:05.442152Z"
    },
    "papermill": {
     "duration": 0.067208,
     "end_time": "2021-12-04T07:47:15.335351",
     "exception": false,
     "start_time": "2021-12-04T07:47:15.268143",
     "status": "completed"
    },
    "tags": []
   },
   "outputs": [
    {
     "data": {
      "text/html": [
       "<div>\n",
       "<style scoped>\n",
       "    .dataframe tbody tr th:only-of-type {\n",
       "        vertical-align: middle;\n",
       "    }\n",
       "\n",
       "    .dataframe tbody tr th {\n",
       "        vertical-align: top;\n",
       "    }\n",
       "\n",
       "    .dataframe thead th {\n",
       "        text-align: right;\n",
       "    }\n",
       "</style>\n",
       "<table border=\"1\" class=\"dataframe\">\n",
       "  <thead>\n",
       "    <tr style=\"text-align: right;\">\n",
       "      <th></th>\n",
       "      <th>Order ID</th>\n",
       "      <th>Product</th>\n",
       "      <th>Quantity Ordered</th>\n",
       "      <th>Price Each</th>\n",
       "      <th>Order Date</th>\n",
       "      <th>Purchase Address</th>\n",
       "      <th>month</th>\n",
       "      <th>sales</th>\n",
       "    </tr>\n",
       "  </thead>\n",
       "  <tbody>\n",
       "    <tr>\n",
       "      <th>0</th>\n",
       "      <td>236670</td>\n",
       "      <td>Wired Headphones</td>\n",
       "      <td>2</td>\n",
       "      <td>11.99</td>\n",
       "      <td>08/31/19 22:21</td>\n",
       "      <td>359 Spruce St, Seattle, WA 98101</td>\n",
       "      <td>8</td>\n",
       "      <td>23.98</td>\n",
       "    </tr>\n",
       "    <tr>\n",
       "      <th>1</th>\n",
       "      <td>236671</td>\n",
       "      <td>Bose SoundSport Headphones</td>\n",
       "      <td>1</td>\n",
       "      <td>99.99</td>\n",
       "      <td>08/15/19 15:11</td>\n",
       "      <td>492 Ridge St, Dallas, TX 75001</td>\n",
       "      <td>8</td>\n",
       "      <td>99.99</td>\n",
       "    </tr>\n",
       "    <tr>\n",
       "      <th>2</th>\n",
       "      <td>236672</td>\n",
       "      <td>iPhone</td>\n",
       "      <td>1</td>\n",
       "      <td>700.00</td>\n",
       "      <td>08/06/19 14:40</td>\n",
       "      <td>149 7th St, Portland, OR 97035</td>\n",
       "      <td>8</td>\n",
       "      <td>700.00</td>\n",
       "    </tr>\n",
       "    <tr>\n",
       "      <th>3</th>\n",
       "      <td>236673</td>\n",
       "      <td>AA Batteries (4-pack)</td>\n",
       "      <td>2</td>\n",
       "      <td>3.84</td>\n",
       "      <td>08/29/19 20:59</td>\n",
       "      <td>631 2nd St, Los Angeles, CA 90001</td>\n",
       "      <td>8</td>\n",
       "      <td>7.68</td>\n",
       "    </tr>\n",
       "    <tr>\n",
       "      <th>4</th>\n",
       "      <td>236674</td>\n",
       "      <td>AA Batteries (4-pack)</td>\n",
       "      <td>2</td>\n",
       "      <td>3.84</td>\n",
       "      <td>08/15/19 19:53</td>\n",
       "      <td>736 14th St, New York City, NY 10001</td>\n",
       "      <td>8</td>\n",
       "      <td>7.68</td>\n",
       "    </tr>\n",
       "  </tbody>\n",
       "</table>\n",
       "</div>"
      ],
      "text/plain": [
       "  Order ID                     Product  Quantity Ordered  Price Each  \\\n",
       "0   236670            Wired Headphones                 2       11.99   \n",
       "1   236671  Bose SoundSport Headphones                 1       99.99   \n",
       "2   236672                      iPhone                 1      700.00   \n",
       "3   236673       AA Batteries (4-pack)                 2        3.84   \n",
       "4   236674       AA Batteries (4-pack)                 2        3.84   \n",
       "\n",
       "       Order Date                      Purchase Address  month   sales  \n",
       "0  08/31/19 22:21      359 Spruce St, Seattle, WA 98101      8   23.98  \n",
       "1  08/15/19 15:11        492 Ridge St, Dallas, TX 75001      8   99.99  \n",
       "2  08/06/19 14:40        149 7th St, Portland, OR 97035      8  700.00  \n",
       "3  08/29/19 20:59     631 2nd St, Los Angeles, CA 90001      8    7.68  \n",
       "4  08/15/19 19:53  736 14th St, New York City, NY 10001      8    7.68  "
      ]
     },
     "execution_count": 19,
     "metadata": {},
     "output_type": "execute_result"
    }
   ],
   "source": [
    "all_data['sales'] = all_data['Quantity Ordered'] * all_data['Price Each']\n",
    "all_data.head()"
   ]
  },
  {
   "cell_type": "code",
   "execution_count": 20,
   "id": "377a71f1",
   "metadata": {
    "execution": {
     "iopub.execute_input": "2021-12-04T07:47:15.437041Z",
     "iopub.status.busy": "2021-12-04T07:47:15.436385Z",
     "iopub.status.idle": "2021-12-04T07:47:15.444047Z",
     "shell.execute_reply": "2021-12-04T07:47:15.444600Z",
     "shell.execute_reply.started": "2021-12-04T07:44:05.468808Z"
    },
    "papermill": {
     "duration": 0.061909,
     "end_time": "2021-12-04T07:47:15.444788",
     "exception": false,
     "start_time": "2021-12-04T07:47:15.382879",
     "status": "completed"
    },
    "tags": []
   },
   "outputs": [],
   "source": [
    "y = all_data.groupby('month')['sales'].sum()\n",
    "months = range(1,13)\n",
    "month_labels = ['Jan','Feb','Mar','Apr','May','Jun','Jul','Aug','Sep','Oct','Nov','Dec']"
   ]
  },
  {
   "cell_type": "code",
   "execution_count": 21,
   "id": "0ca78b78",
   "metadata": {
    "execution": {
     "iopub.execute_input": "2021-12-04T07:47:15.561949Z",
     "iopub.status.busy": "2021-12-04T07:47:15.561264Z",
     "iopub.status.idle": "2021-12-04T07:47:15.919859Z",
     "shell.execute_reply": "2021-12-04T07:47:15.920460Z",
     "shell.execute_reply.started": "2021-12-04T07:44:05.480715Z"
    },
    "papermill": {
     "duration": 0.427883,
     "end_time": "2021-12-04T07:47:15.920635",
     "exception": false,
     "start_time": "2021-12-04T07:47:15.492752",
     "status": "completed"
    },
    "tags": []
   },
   "outputs": [
    {
     "data": {
      "image/png": "[encoded data removed]",
      "text/plain": [
       "<Figure size 720x360 with 1 Axes>"
      ]
     },
     "metadata": {},
     "output_type": "display_data"
    }
   ],
   "source": [
    "# plotting the data\n",
    "plt.figure(figsize=(10,5))\n",
    "plt.bar(months, y)\n",
    "plt.xticks(months,month_labels)\n",
    "plt.title('Monthly Sales')\n",
    "plt.xlabel('Month',fontsize=12,labelpad=15)\n",
    "plt.ylabel('Sales in USD',fontsize=12, labelpad=15)\n",
    "plt.show()"
   ]
  },
  {
   "cell_type": "markdown",
   "id": "618ea7ee",
   "metadata": {
    "papermill": {
     "duration": 0.049138,
     "end_time": "2021-12-04T07:47:16.018977",
     "exception": false,
     "start_time": "2021-12-04T07:47:15.969839",
     "status": "completed"
    },
    "tags": []
   },
   "source": [
    "The chart above shows that festive months like April, October and December have the highest sales of any other month. Of those months, December had the highest sales. From the chart above we can conclude that the best sales are during the festive season and the highest number of items are sold during the Christmas season."
   ]
  },
  {
   "cell_type": "markdown",
   "id": "ef9528d9",
   "metadata": {
    "papermill": {
     "duration": 0.049033,
     "end_time": "2021-12-04T07:47:16.118440",
     "exception": false,
     "start_time": "2021-12-04T07:47:16.069407",
     "status": "completed"
    },
    "tags": []
   },
   "source": [
    "### Order quantity and city analysis of those orders"
   ]
  },
  {
   "cell_type": "code",
   "execution_count": 22,
   "id": "be37b574",
   "metadata": {
    "execution": {
     "iopub.execute_input": "2021-12-04T07:47:16.218725Z",
     "iopub.status.busy": "2021-12-04T07:47:16.218088Z",
     "iopub.status.idle": "2021-12-04T07:47:16.336566Z",
     "shell.execute_reply": "2021-12-04T07:47:16.335922Z",
     "shell.execute_reply.started": "2021-12-04T07:44:05.730763Z"
    },
    "papermill": {
     "duration": 0.169821,
     "end_time": "2021-12-04T07:47:16.336723",
     "exception": false,
     "start_time": "2021-12-04T07:47:16.166902",
     "status": "completed"
    },
    "tags": []
   },
   "outputs": [
    {
     "data": {
      "text/html": [
       "<div>\n",
       "<style scoped>\n",
       "    .dataframe tbody tr th:only-of-type {\n",
       "        vertical-align: middle;\n",
       "    }\n",
       "\n",
       "    .dataframe tbody tr th {\n",
       "        vertical-align: top;\n",
       "    }\n",
       "\n",
       "    .dataframe thead th {\n",
       "        text-align: right;\n",
       "    }\n",
       "</style>\n",
       "<table border=\"1\" class=\"dataframe\">\n",
       "  <thead>\n",
       "    <tr style=\"text-align: right;\">\n",
       "      <th></th>\n",
       "      <th>Order ID</th>\n",
       "      <th>Product</th>\n",
       "      <th>Quantity Ordered</th>\n",
       "      <th>Price Each</th>\n",
       "      <th>Order Date</th>\n",
       "      <th>Purchase Address</th>\n",
       "      <th>month</th>\n",
       "      <th>sales</th>\n",
       "      <th>city</th>\n",
       "    </tr>\n",
       "  </thead>\n",
       "  <tbody>\n",
       "    <tr>\n",
       "      <th>0</th>\n",
       "      <td>236670</td>\n",
       "      <td>Wired Headphones</td>\n",
       "      <td>2</td>\n",
       "      <td>11.99</td>\n",
       "      <td>08/31/19 22:21</td>\n",
       "      <td>359 Spruce St, Seattle, WA 98101</td>\n",
       "      <td>8</td>\n",
       "      <td>23.98</td>\n",
       "      <td>Seattle</td>\n",
       "    </tr>\n",
       "    <tr>\n",
       "      <th>1</th>\n",
       "      <td>236671</td>\n",
       "      <td>Bose SoundSport Headphones</td>\n",
       "      <td>1</td>\n",
       "      <td>99.99</td>\n",
       "      <td>08/15/19 15:11</td>\n",
       "      <td>492 Ridge St, Dallas, TX 75001</td>\n",
       "      <td>8</td>\n",
       "      <td>99.99</td>\n",
       "      <td>Dallas</td>\n",
       "    </tr>\n",
       "    <tr>\n",
       "      <th>2</th>\n",
       "      <td>236672</td>\n",
       "      <td>iPhone</td>\n",
       "      <td>1</td>\n",
       "      <td>700.00</td>\n",
       "      <td>08/06/19 14:40</td>\n",
       "      <td>149 7th St, Portland, OR 97035</td>\n",
       "      <td>8</td>\n",
       "      <td>700.00</td>\n",
       "      <td>Portland</td>\n",
       "    </tr>\n",
       "    <tr>\n",
       "      <th>3</th>\n",
       "      <td>236673</td>\n",
       "      <td>AA Batteries (4-pack)</td>\n",
       "      <td>2</td>\n",
       "      <td>3.84</td>\n",
       "      <td>08/29/19 20:59</td>\n",
       "      <td>631 2nd St, Los Angeles, CA 90001</td>\n",
       "      <td>8</td>\n",
       "      <td>7.68</td>\n",
       "      <td>Los Angeles</td>\n",
       "    </tr>\n",
       "    <tr>\n",
       "      <th>4</th>\n",
       "      <td>236674</td>\n",
       "      <td>AA Batteries (4-pack)</td>\n",
       "      <td>2</td>\n",
       "      <td>3.84</td>\n",
       "      <td>08/15/19 19:53</td>\n",
       "      <td>736 14th St, New York City, NY 10001</td>\n",
       "      <td>8</td>\n",
       "      <td>7.68</td>\n",
       "      <td>New York City</td>\n",
       "    </tr>\n",
       "  </tbody>\n",
       "</table>\n",
       "</div>"
      ],
      "text/plain": [
       "  Order ID                     Product  Quantity Ordered  Price Each  \\\n",
       "0   236670            Wired Headphones                 2       11.99   \n",
       "1   236671  Bose SoundSport Headphones                 1       99.99   \n",
       "2   236672                      iPhone                 1      700.00   \n",
       "3   236673       AA Batteries (4-pack)                 2        3.84   \n",
       "4   236674       AA Batteries (4-pack)                 2        3.84   \n",
       "\n",
       "       Order Date                      Purchase Address  month   sales  \\\n",
       "0  08/31/19 22:21      359 Spruce St, Seattle, WA 98101      8   23.98   \n",
       "1  08/15/19 15:11        492 Ridge St, Dallas, TX 75001      8   99.99   \n",
       "2  08/06/19 14:40        149 7th St, Portland, OR 97035      8  700.00   \n",
       "3  08/29/19 20:59     631 2nd St, Los Angeles, CA 90001      8    7.68   \n",
       "4  08/15/19 19:53  736 14th St, New York City, NY 10001      8    7.68   \n",
       "\n",
       "             city  \n",
       "0         Seattle  \n",
       "1          Dallas  \n",
       "2        Portland  \n",
       "3     Los Angeles  \n",
       "4   New York City  "
      ]
     },
     "execution_count": 22,
     "metadata": {},
     "output_type": "execute_result"
    }
   ],
   "source": [
    "# creating the city column.\n",
    "def city(x):\n",
    "    return x.split(',')[1]\n",
    "\n",
    "all_data['city'] = all_data['Purchase Address'].apply(city)\n",
    "all_data.head()"
   ]
  },
  {
   "cell_type": "code",
   "execution_count": 23,
   "id": "410432bf",
   "metadata": {
    "execution": {
     "iopub.execute_input": "2021-12-04T07:47:16.445521Z",
     "iopub.status.busy": "2021-12-04T07:47:16.444849Z",
     "iopub.status.idle": "2021-12-04T07:47:16.490308Z",
     "shell.execute_reply": "2021-12-04T07:47:16.489776Z",
     "shell.execute_reply.started": "2021-12-04T07:44:05.858875Z"
    },
    "papermill": {
     "duration": 0.10452,
     "end_time": "2021-12-04T07:47:16.490457",
     "exception": false,
     "start_time": "2021-12-04T07:47:16.385937",
     "status": "completed"
    },
    "tags": []
   },
   "outputs": [
    {
     "data": {
      "text/html": [
       "<div>\n",
       "<style scoped>\n",
       "    .dataframe tbody tr th:only-of-type {\n",
       "        vertical-align: middle;\n",
       "    }\n",
       "\n",
       "    .dataframe tbody tr th {\n",
       "        vertical-align: top;\n",
       "    }\n",
       "\n",
       "    .dataframe thead th {\n",
       "        text-align: right;\n",
       "    }\n",
       "</style>\n",
       "<table border=\"1\" class=\"dataframe\">\n",
       "  <thead>\n",
       "    <tr style=\"text-align: right;\">\n",
       "      <th></th>\n",
       "      <th>city_name</th>\n",
       "      <th>city_counts</th>\n",
       "    </tr>\n",
       "  </thead>\n",
       "  <tbody>\n",
       "    <tr>\n",
       "      <th>0</th>\n",
       "      <td>Atlanta</td>\n",
       "      <td>14881</td>\n",
       "    </tr>\n",
       "    <tr>\n",
       "      <th>1</th>\n",
       "      <td>Austin</td>\n",
       "      <td>9905</td>\n",
       "    </tr>\n",
       "    <tr>\n",
       "      <th>2</th>\n",
       "      <td>Boston</td>\n",
       "      <td>19934</td>\n",
       "    </tr>\n",
       "    <tr>\n",
       "      <th>3</th>\n",
       "      <td>Dallas</td>\n",
       "      <td>14820</td>\n",
       "    </tr>\n",
       "    <tr>\n",
       "      <th>4</th>\n",
       "      <td>Los Angeles</td>\n",
       "      <td>29605</td>\n",
       "    </tr>\n",
       "  </tbody>\n",
       "</table>\n",
       "</div>"
      ],
      "text/plain": [
       "      city_name  city_counts\n",
       "0       Atlanta        14881\n",
       "1        Austin         9905\n",
       "2        Boston        19934\n",
       "3        Dallas        14820\n",
       "4   Los Angeles        29605"
      ]
     },
     "execution_count": 23,
     "metadata": {},
     "output_type": "execute_result"
    }
   ],
   "source": [
    "city_counts = all_data.groupby('city')['city'].count()\n",
    "city_counts = city_counts.to_frame(name=\"city_counts\")\n",
    "city_counts.index.names = ['city_name']\n",
    "city_counts.reset_index(inplace=True)\n",
    "city_counts.head()"
   ]
  },
  {
   "cell_type": "code",
   "execution_count": 24,
   "id": "9efd7e51",
   "metadata": {
    "execution": {
     "iopub.execute_input": "2021-12-04T07:47:16.597293Z",
     "iopub.status.busy": "2021-12-04T07:47:16.596331Z",
     "iopub.status.idle": "2021-12-04T07:47:16.600292Z",
     "shell.execute_reply": "2021-12-04T07:47:16.599671Z",
     "shell.execute_reply.started": "2021-12-04T07:44:05.916808Z"
    },
    "papermill": {
     "duration": 0.060248,
     "end_time": "2021-12-04T07:47:16.600428",
     "exception": false,
     "start_time": "2021-12-04T07:47:16.540180",
     "status": "completed"
    },
    "tags": []
   },
   "outputs": [
    {
     "data": {
      "text/plain": [
       "(9, 2)"
      ]
     },
     "execution_count": 24,
     "metadata": {},
     "output_type": "execute_result"
    }
   ],
   "source": [
    "city_counts.shape"
   ]
  },
  {
   "cell_type": "code",
   "execution_count": 25,
   "id": "7657cdb5",
   "metadata": {
    "execution": {
     "iopub.execute_input": "2021-12-04T07:47:16.742314Z",
     "iopub.status.busy": "2021-12-04T07:47:16.703494Z",
     "iopub.status.idle": "2021-12-04T07:47:16.959395Z",
     "shell.execute_reply": "2021-12-04T07:47:16.958764Z",
     "shell.execute_reply.started": "2021-12-04T07:44:05.924605Z"
    },
    "papermill": {
     "duration": 0.309206,
     "end_time": "2021-12-04T07:47:16.959550",
     "exception": false,
     "start_time": "2021-12-04T07:47:16.650344",
     "status": "completed"
    },
    "tags": []
   },
   "outputs": [
    {
     "data": {
      "image/png": "[encoded data removed]",
      "text/plain": [
       "<Figure size 720x360 with 1 Axes>"
      ]
     },
     "metadata": {},
     "output_type": "display_data"
    }
   ],
   "source": [
    "plt.figure(figsize=(10,5))\n",
    "sns.barplot(x=city_counts['city_name'],y=city_counts['city_counts'],data=city_counts)\n",
    "plt.xlabel('Name of the City', fontsize=12, labelpad=15)\n",
    "plt.ylabel('Number of orders',fontsize=12, labelpad=15)\n",
    "plt.title('Orders by City')\n",
    "plt.xticks(rotation=45)\n",
    "plt.show()"
   ]
  },
  {
   "cell_type": "code",
   "execution_count": 26,
   "id": "61d546d9",
   "metadata": {
    "execution": {
     "iopub.execute_input": "2021-12-04T07:47:17.065355Z",
     "iopub.status.busy": "2021-12-04T07:47:17.064715Z",
     "iopub.status.idle": "2021-12-04T07:47:17.071021Z",
     "shell.execute_reply": "2021-12-04T07:47:17.071595Z",
     "shell.execute_reply.started": "2021-12-04T07:44:06.192485Z"
    },
    "papermill": {
     "duration": 0.060665,
     "end_time": "2021-12-04T07:47:17.071800",
     "exception": false,
     "start_time": "2021-12-04T07:47:17.011135",
     "status": "completed"
    },
    "tags": []
   },
   "outputs": [
    {
     "data": {
      "text/plain": [
       "array(['Wired Headphones', 'Bose SoundSport Headphones', 'iPhone', ...,\n",
       "       'Vareebadd Phone', 'Wired Headphones',\n",
       "       'Bose SoundSport Headphones'], dtype=object)"
      ]
     },
     "execution_count": 26,
     "metadata": {},
     "output_type": "execute_result"
    }
   ],
   "source": [
    "all_data['Product'].values"
   ]
  },
  {
   "cell_type": "markdown",
   "id": "9a120c36",
   "metadata": {
    "papermill": {
     "duration": 0.051086,
     "end_time": "2021-12-04T07:47:17.179253",
     "exception": false,
     "start_time": "2021-12-04T07:47:17.128167",
     "status": "completed"
    },
    "tags": []
   },
   "source": [
    "**Costal cities** like San Francisco, New York City, Los Angeles and Boston are the major cities ordering the most products. The products are mostly related to the electrical devices or smart devices. As many of these coastal cities are economically as well as technologically advanced, it can be concluded that people in those cities are increasingly buying smart devices and related products."
   ]
  },
  {
   "cell_type": "markdown",
   "id": "072dd68f",
   "metadata": {
    "papermill": {
     "duration": 0.051412,
     "end_time": "2021-12-04T07:47:17.282184",
     "exception": false,
     "start_time": "2021-12-04T07:47:17.230772",
     "status": "completed"
    },
    "tags": []
   },
   "source": [
    "### Analyze the quantity of orders and the time at which those orders were placed."
   ]
  },
  {
   "cell_type": "code",
   "execution_count": 27,
   "id": "d7192365",
   "metadata": {
    "execution": {
     "iopub.execute_input": "2021-12-04T07:47:17.388618Z",
     "iopub.status.busy": "2021-12-04T07:47:17.387639Z",
     "iopub.status.idle": "2021-12-04T07:47:35.666339Z",
     "shell.execute_reply": "2021-12-04T07:47:35.666882Z",
     "shell.execute_reply.started": "2021-12-04T07:44:06.199648Z"
    },
    "papermill": {
     "duration": 18.333506,
     "end_time": "2021-12-04T07:47:35.667067",
     "exception": false,
     "start_time": "2021-12-04T07:47:17.333561",
     "status": "completed"
    },
    "tags": []
   },
   "outputs": [
    {
     "data": {
      "text/html": [
       "<div>\n",
       "<style scoped>\n",
       "    .dataframe tbody tr th:only-of-type {\n",
       "        vertical-align: middle;\n",
       "    }\n",
       "\n",
       "    .dataframe tbody tr th {\n",
       "        vertical-align: top;\n",
       "    }\n",
       "\n",
       "    .dataframe thead th {\n",
       "        text-align: right;\n",
       "    }\n",
       "</style>\n",
       "<table border=\"1\" class=\"dataframe\">\n",
       "  <thead>\n",
       "    <tr style=\"text-align: right;\">\n",
       "      <th></th>\n",
       "      <th>Order ID</th>\n",
       "      <th>Product</th>\n",
       "      <th>Quantity Ordered</th>\n",
       "      <th>Price Each</th>\n",
       "      <th>Order Date</th>\n",
       "      <th>Purchase Address</th>\n",
       "      <th>month</th>\n",
       "      <th>sales</th>\n",
       "      <th>city</th>\n",
       "      <th>Hour</th>\n",
       "    </tr>\n",
       "  </thead>\n",
       "  <tbody>\n",
       "    <tr>\n",
       "      <th>0</th>\n",
       "      <td>236670</td>\n",
       "      <td>Wired Headphones</td>\n",
       "      <td>2</td>\n",
       "      <td>11.99</td>\n",
       "      <td>08/31/19 22:21</td>\n",
       "      <td>359 Spruce St, Seattle, WA 98101</td>\n",
       "      <td>8</td>\n",
       "      <td>23.98</td>\n",
       "      <td>Seattle</td>\n",
       "      <td>22</td>\n",
       "    </tr>\n",
       "    <tr>\n",
       "      <th>1</th>\n",
       "      <td>236671</td>\n",
       "      <td>Bose SoundSport Headphones</td>\n",
       "      <td>1</td>\n",
       "      <td>99.99</td>\n",
       "      <td>08/15/19 15:11</td>\n",
       "      <td>492 Ridge St, Dallas, TX 75001</td>\n",
       "      <td>8</td>\n",
       "      <td>99.99</td>\n",
       "      <td>Dallas</td>\n",
       "      <td>15</td>\n",
       "    </tr>\n",
       "    <tr>\n",
       "      <th>2</th>\n",
       "      <td>236672</td>\n",
       "      <td>iPhone</td>\n",
       "      <td>1</td>\n",
       "      <td>700.00</td>\n",
       "      <td>08/06/19 14:40</td>\n",
       "      <td>149 7th St, Portland, OR 97035</td>\n",
       "      <td>8</td>\n",
       "      <td>700.00</td>\n",
       "      <td>Portland</td>\n",
       "      <td>14</td>\n",
       "    </tr>\n",
       "    <tr>\n",
       "      <th>3</th>\n",
       "      <td>236673</td>\n",
       "      <td>AA Batteries (4-pack)</td>\n",
       "      <td>2</td>\n",
       "      <td>3.84</td>\n",
       "      <td>08/29/19 20:59</td>\n",
       "      <td>631 2nd St, Los Angeles, CA 90001</td>\n",
       "      <td>8</td>\n",
       "      <td>7.68</td>\n",
       "      <td>Los Angeles</td>\n",
       "      <td>20</td>\n",
       "    </tr>\n",
       "    <tr>\n",
       "      <th>4</th>\n",
       "      <td>236674</td>\n",
       "      <td>AA Batteries (4-pack)</td>\n",
       "      <td>2</td>\n",
       "      <td>3.84</td>\n",
       "      <td>08/15/19 19:53</td>\n",
       "      <td>736 14th St, New York City, NY 10001</td>\n",
       "      <td>8</td>\n",
       "      <td>7.68</td>\n",
       "      <td>New York City</td>\n",
       "      <td>19</td>\n",
       "    </tr>\n",
       "  </tbody>\n",
       "</table>\n",
       "</div>"
      ],
      "text/plain": [
       "  Order ID                     Product  Quantity Ordered  Price Each  \\\n",
       "0   236670            Wired Headphones                 2       11.99   \n",
       "1   236671  Bose SoundSport Headphones                 1       99.99   \n",
       "2   236672                      iPhone                 1      700.00   \n",
       "3   236673       AA Batteries (4-pack)                 2        3.84   \n",
       "4   236674       AA Batteries (4-pack)                 2        3.84   \n",
       "\n",
       "       Order Date                      Purchase Address  month   sales  \\\n",
       "0  08/31/19 22:21      359 Spruce St, Seattle, WA 98101      8   23.98   \n",
       "1  08/15/19 15:11        492 Ridge St, Dallas, TX 75001      8   99.99   \n",
       "2  08/06/19 14:40        149 7th St, Portland, OR 97035      8  700.00   \n",
       "3  08/29/19 20:59     631 2nd St, Los Angeles, CA 90001      8    7.68   \n",
       "4  08/15/19 19:53  736 14th St, New York City, NY 10001      8    7.68   \n",
       "\n",
       "             city  Hour  \n",
       "0         Seattle    22  \n",
       "1          Dallas    15  \n",
       "2        Portland    14  \n",
       "3     Los Angeles    20  \n",
       "4   New York City    19  "
      ]
     },
     "execution_count": 27,
     "metadata": {},
     "output_type": "execute_result"
    }
   ],
   "source": [
    "all_data['Hour'] = pd.to_datetime(all_data['Order Date']).dt.hour\n",
    "all_data.head()"
   ]
  },
  {
   "cell_type": "code",
   "execution_count": 28,
   "id": "01a3c3e6",
   "metadata": {
    "execution": {
     "iopub.execute_input": "2021-12-04T07:47:35.777945Z",
     "iopub.status.busy": "2021-12-04T07:47:35.776808Z",
     "iopub.status.idle": "2021-12-04T07:47:35.885981Z",
     "shell.execute_reply": "2021-12-04T07:47:35.885385Z",
     "shell.execute_reply.started": "2021-12-04T07:44:24.622676Z"
    },
    "papermill": {
     "duration": 0.167028,
     "end_time": "2021-12-04T07:47:35.886128",
     "exception": false,
     "start_time": "2021-12-04T07:47:35.719100",
     "status": "completed"
    },
    "tags": []
   },
   "outputs": [],
   "source": [
    "keys = []\n",
    "hour = []\n",
    "for key, hour_df in all_data.groupby('Hour'):\n",
    "    keys.append(key)\n",
    "    hour.append(len(hour_df))"
   ]
  },
  {
   "cell_type": "code",
   "execution_count": 29,
   "id": "bae91b55",
   "metadata": {
    "execution": {
     "iopub.execute_input": "2021-12-04T07:47:35.996547Z",
     "iopub.status.busy": "2021-12-04T07:47:35.995550Z",
     "iopub.status.idle": "2021-12-04T07:47:36.398679Z",
     "shell.execute_reply": "2021-12-04T07:47:36.399208Z",
     "shell.execute_reply.started": "2021-12-04T07:44:24.744439Z"
    },
    "papermill": {
     "duration": 0.459914,
     "end_time": "2021-12-04T07:47:36.399381",
     "exception": false,
     "start_time": "2021-12-04T07:47:35.939467",
     "status": "completed"
    },
    "tags": []
   },
   "outputs": [
    {
     "data": {
      "image/png": "[encoded data removed]",
      "text/plain": [
       "<Figure size 720x360 with 1 Axes>"
      ]
     },
     "metadata": {},
     "output_type": "display_data"
    }
   ],
   "source": [
    "plt.figure(figsize=(10,5))\n",
    "sns.barplot(x=keys,y=hour)\n",
    "sns.lineplot(x=keys, y=hour)\n",
    "plt.xlabel('Hour', fontsize=12, labelpad=15)\n",
    "plt.ylabel('Number of orders',fontsize=12, labelpad=15)\n",
    "plt.title('Orders by Time and Hour')\n",
    "plt.show()"
   ]
  },
  {
   "cell_type": "markdown",
   "id": "c522cb6d",
   "metadata": {
    "papermill": {
     "duration": 0.052179,
     "end_time": "2021-12-04T07:47:36.504174",
     "exception": false,
     "start_time": "2021-12-04T07:47:36.451995",
     "status": "completed"
    },
    "tags": []
   },
   "source": [
    "It seems like orders are placed mostly at less busy hours like 11:00 AM - 13:00 AM and 18:00 PM - 20:00 PM. This means, to increase the sales, we should display advertisements at these times."
   ]
  },
  {
   "cell_type": "markdown",
   "id": "d7ec132d",
   "metadata": {
    "papermill": {
     "duration": 0.052448,
     "end_time": "2021-12-04T07:47:36.609949",
     "exception": false,
     "start_time": "2021-12-04T07:47:36.557501",
     "status": "completed"
    },
    "tags": []
   },
   "source": [
    "### Analyzing Product sold counts"
   ]
  },
  {
   "cell_type": "code",
   "execution_count": 30,
   "id": "26539407",
   "metadata": {
    "execution": {
     "iopub.execute_input": "2021-12-04T07:47:36.725434Z",
     "iopub.status.busy": "2021-12-04T07:47:36.724771Z",
     "iopub.status.idle": "2021-12-04T07:47:36.754300Z",
     "shell.execute_reply": "2021-12-04T07:47:36.754956Z",
     "shell.execute_reply.started": "2021-12-04T07:44:25.154314Z"
    },
    "papermill": {
     "duration": 0.092373,
     "end_time": "2021-12-04T07:47:36.755173",
     "exception": false,
     "start_time": "2021-12-04T07:47:36.662800",
     "status": "completed"
    },
    "tags": []
   },
   "outputs": [
    {
     "data": {
      "text/html": [
       "<div>\n",
       "<style scoped>\n",
       "    .dataframe tbody tr th:only-of-type {\n",
       "        vertical-align: middle;\n",
       "    }\n",
       "\n",
       "    .dataframe tbody tr th {\n",
       "        vertical-align: top;\n",
       "    }\n",
       "\n",
       "    .dataframe thead th {\n",
       "        text-align: right;\n",
       "    }\n",
       "</style>\n",
       "<table border=\"1\" class=\"dataframe\">\n",
       "  <thead>\n",
       "    <tr style=\"text-align: right;\">\n",
       "      <th></th>\n",
       "      <th>Product</th>\n",
       "      <th>product_counts</th>\n",
       "    </tr>\n",
       "  </thead>\n",
       "  <tbody>\n",
       "    <tr>\n",
       "      <th>0</th>\n",
       "      <td>20in Monitor</td>\n",
       "      <td>4129</td>\n",
       "    </tr>\n",
       "    <tr>\n",
       "      <th>1</th>\n",
       "      <td>27in 4K Gaming Monitor</td>\n",
       "      <td>6244</td>\n",
       "    </tr>\n",
       "    <tr>\n",
       "      <th>2</th>\n",
       "      <td>27in FHD Monitor</td>\n",
       "      <td>7550</td>\n",
       "    </tr>\n",
       "    <tr>\n",
       "      <th>3</th>\n",
       "      <td>34in Ultrawide Monitor</td>\n",
       "      <td>6199</td>\n",
       "    </tr>\n",
       "    <tr>\n",
       "      <th>4</th>\n",
       "      <td>AA Batteries (4-pack)</td>\n",
       "      <td>27635</td>\n",
       "    </tr>\n",
       "  </tbody>\n",
       "</table>\n",
       "</div>"
      ],
      "text/plain": [
       "                  Product  product_counts\n",
       "0            20in Monitor            4129\n",
       "1  27in 4K Gaming Monitor            6244\n",
       "2        27in FHD Monitor            7550\n",
       "3  34in Ultrawide Monitor            6199\n",
       "4   AA Batteries (4-pack)           27635"
      ]
     },
     "execution_count": 30,
     "metadata": {},
     "output_type": "execute_result"
    }
   ],
   "source": [
    "quantity = all_data.groupby('Product')['Quantity Ordered'].sum()\n",
    "quantity = quantity.to_frame(name=\"product_counts\")\n",
    "quantity.reset_index(inplace=True)\n",
    "quantity.head()"
   ]
  },
  {
   "cell_type": "code",
   "execution_count": 31,
   "id": "be5b1200",
   "metadata": {
    "execution": {
     "iopub.execute_input": "2021-12-04T07:47:36.870247Z",
     "iopub.status.busy": "2021-12-04T07:47:36.869190Z",
     "iopub.status.idle": "2021-12-04T07:47:36.875101Z",
     "shell.execute_reply": "2021-12-04T07:47:36.875730Z",
     "shell.execute_reply.started": "2021-12-04T07:44:25.192527Z"
    },
    "papermill": {
     "duration": 0.065626,
     "end_time": "2021-12-04T07:47:36.875910",
     "exception": false,
     "start_time": "2021-12-04T07:47:36.810284",
     "status": "completed"
    },
    "tags": []
   },
   "outputs": [
    {
     "data": {
      "text/plain": [
       "(19, 2)"
      ]
     },
     "execution_count": 31,
     "metadata": {},
     "output_type": "execute_result"
    }
   ],
   "source": [
    "quantity.shape"
   ]
  },
  {
   "cell_type": "code",
   "execution_count": 32,
   "id": "8c133e8c",
   "metadata": {
    "execution": {
     "iopub.execute_input": "2021-12-04T07:47:36.994627Z",
     "iopub.status.busy": "2021-12-04T07:47:36.993564Z",
     "iopub.status.idle": "2021-12-04T07:47:37.379847Z",
     "shell.execute_reply": "2021-12-04T07:47:37.380383Z",
     "shell.execute_reply.started": "2021-12-04T07:44:25.201291Z"
    },
    "papermill": {
     "duration": 0.448403,
     "end_time": "2021-12-04T07:47:37.380563",
     "exception": false,
     "start_time": "2021-12-04T07:47:36.932160",
     "status": "completed"
    },
    "tags": []
   },
   "outputs": [
    {
     "data": {
      "image/png": "[encoded data removed]",
      "text/plain": [
       "<Figure size 720x360 with 1 Axes>"
      ]
     },
     "metadata": {},
     "output_type": "display_data"
    }
   ],
   "source": [
    "plt.figure(figsize=(10,5))\n",
    "sns.barplot(x=quantity['Product'],y=quantity['product_counts'],data=quantity)\n",
    "plt.xlabel('product', fontsize=12, labelpad=15)\n",
    "plt.ylabel('Number of product orders',fontsize=12, labelpad=15)\n",
    "plt.title('Orders by product and their order count')\n",
    "plt.xticks(rotation=90)\n",
    "plt.show()"
   ]
  },
  {
   "cell_type": "code",
   "execution_count": 33,
   "id": "070325c2",
   "metadata": {
    "execution": {
     "iopub.execute_input": "2021-12-04T07:47:37.510404Z",
     "iopub.status.busy": "2021-12-04T07:47:37.509467Z",
     "iopub.status.idle": "2021-12-04T07:47:37.513475Z",
     "shell.execute_reply": "2021-12-04T07:47:37.512932Z",
     "shell.execute_reply.started": "2021-12-04T07:44:25.594927Z"
    },
    "papermill": {
     "duration": 0.075537,
     "end_time": "2021-12-04T07:47:37.513629",
     "exception": false,
     "start_time": "2021-12-04T07:47:37.438092",
     "status": "completed"
    },
    "tags": []
   },
   "outputs": [
    {
     "data": {
      "text/html": [
       "<div>\n",
       "<style scoped>\n",
       "    .dataframe tbody tr th:only-of-type {\n",
       "        vertical-align: middle;\n",
       "    }\n",
       "\n",
       "    .dataframe tbody tr th {\n",
       "        vertical-align: top;\n",
       "    }\n",
       "\n",
       "    .dataframe thead th {\n",
       "        text-align: right;\n",
       "    }\n",
       "</style>\n",
       "<table border=\"1\" class=\"dataframe\">\n",
       "  <thead>\n",
       "    <tr style=\"text-align: right;\">\n",
       "      <th></th>\n",
       "      <th>Order ID</th>\n",
       "      <th>Product</th>\n",
       "      <th>Quantity Ordered</th>\n",
       "      <th>Price Each</th>\n",
       "      <th>Order Date</th>\n",
       "      <th>Purchase Address</th>\n",
       "      <th>month</th>\n",
       "      <th>sales</th>\n",
       "      <th>city</th>\n",
       "      <th>Hour</th>\n",
       "    </tr>\n",
       "  </thead>\n",
       "  <tbody>\n",
       "    <tr>\n",
       "      <th>0</th>\n",
       "      <td>236670</td>\n",
       "      <td>Wired Headphones</td>\n",
       "      <td>2</td>\n",
       "      <td>11.99</td>\n",
       "      <td>08/31/19 22:21</td>\n",
       "      <td>359 Spruce St, Seattle, WA 98101</td>\n",
       "      <td>8</td>\n",
       "      <td>23.98</td>\n",
       "      <td>Seattle</td>\n",
       "      <td>22</td>\n",
       "    </tr>\n",
       "    <tr>\n",
       "      <th>1</th>\n",
       "      <td>236671</td>\n",
       "      <td>Bose SoundSport Headphones</td>\n",
       "      <td>1</td>\n",
       "      <td>99.99</td>\n",
       "      <td>08/15/19 15:11</td>\n",
       "      <td>492 Ridge St, Dallas, TX 75001</td>\n",
       "      <td>8</td>\n",
       "      <td>99.99</td>\n",
       "      <td>Dallas</td>\n",
       "      <td>15</td>\n",
       "    </tr>\n",
       "    <tr>\n",
       "      <th>2</th>\n",
       "      <td>236672</td>\n",
       "      <td>iPhone</td>\n",
       "      <td>1</td>\n",
       "      <td>700.00</td>\n",
       "      <td>08/06/19 14:40</td>\n",
       "      <td>149 7th St, Portland, OR 97035</td>\n",
       "      <td>8</td>\n",
       "      <td>700.00</td>\n",
       "      <td>Portland</td>\n",
       "      <td>14</td>\n",
       "    </tr>\n",
       "    <tr>\n",
       "      <th>3</th>\n",
       "      <td>236673</td>\n",
       "      <td>AA Batteries (4-pack)</td>\n",
       "      <td>2</td>\n",
       "      <td>3.84</td>\n",
       "      <td>08/29/19 20:59</td>\n",
       "      <td>631 2nd St, Los Angeles, CA 90001</td>\n",
       "      <td>8</td>\n",
       "      <td>7.68</td>\n",
       "      <td>Los Angeles</td>\n",
       "      <td>20</td>\n",
       "    </tr>\n",
       "    <tr>\n",
       "      <th>4</th>\n",
       "      <td>236674</td>\n",
       "      <td>AA Batteries (4-pack)</td>\n",
       "      <td>2</td>\n",
       "      <td>3.84</td>\n",
       "      <td>08/15/19 19:53</td>\n",
       "      <td>736 14th St, New York City, NY 10001</td>\n",
       "      <td>8</td>\n",
       "      <td>7.68</td>\n",
       "      <td>New York City</td>\n",
       "      <td>19</td>\n",
       "    </tr>\n",
       "  </tbody>\n",
       "</table>\n",
       "</div>"
      ],
      "text/plain": [
       "  Order ID                     Product  Quantity Ordered  Price Each  \\\n",
       "0   236670            Wired Headphones                 2       11.99   \n",
       "1   236671  Bose SoundSport Headphones                 1       99.99   \n",
       "2   236672                      iPhone                 1      700.00   \n",
       "3   236673       AA Batteries (4-pack)                 2        3.84   \n",
       "4   236674       AA Batteries (4-pack)                 2        3.84   \n",
       "\n",
       "       Order Date                      Purchase Address  month   sales  \\\n",
       "0  08/31/19 22:21      359 Spruce St, Seattle, WA 98101      8   23.98   \n",
       "1  08/15/19 15:11        492 Ridge St, Dallas, TX 75001      8   99.99   \n",
       "2  08/06/19 14:40        149 7th St, Portland, OR 97035      8  700.00   \n",
       "3  08/29/19 20:59     631 2nd St, Los Angeles, CA 90001      8    7.68   \n",
       "4  08/15/19 19:53  736 14th St, New York City, NY 10001      8    7.68   \n",
       "\n",
       "             city  Hour  \n",
       "0         Seattle    22  \n",
       "1          Dallas    15  \n",
       "2        Portland    14  \n",
       "3     Los Angeles    20  \n",
       "4   New York City    19  "
      ]
     },
     "execution_count": 33,
     "metadata": {},
     "output_type": "execute_result"
    }
   ],
   "source": [
    "all_data.head()"
   ]
  },
  {
   "cell_type": "code",
   "execution_count": 34,
   "id": "09fd36e8",
   "metadata": {
    "execution": {
     "iopub.execute_input": "2021-12-04T07:47:37.630292Z",
     "iopub.status.busy": "2021-12-04T07:47:37.629542Z",
     "iopub.status.idle": "2021-12-04T07:47:37.699829Z",
     "shell.execute_reply": "2021-12-04T07:47:37.700390Z",
     "shell.execute_reply.started": "2021-12-04T07:44:25.613201Z"
    },
    "papermill": {
     "duration": 0.130345,
     "end_time": "2021-12-04T07:47:37.700569",
     "exception": false,
     "start_time": "2021-12-04T07:47:37.570224",
     "status": "completed"
    },
    "tags": []
   },
   "outputs": [],
   "source": [
    "quantity_1 = all_data.groupby('Product')['Quantity Ordered'].sum()\n",
    "products = all_data.groupby('Product')['Quantity Ordered'].sum().index\n",
    "prices = all_data.groupby('Product')['Price Each'].mean()"
   ]
  },
  {
   "cell_type": "code",
   "execution_count": 35,
   "id": "713931e0",
   "metadata": {
    "execution": {
     "iopub.execute_input": "2021-12-04T07:47:37.819571Z",
     "iopub.status.busy": "2021-12-04T07:47:37.818975Z",
     "iopub.status.idle": "2021-12-04T07:47:37.823302Z",
     "shell.execute_reply": "2021-12-04T07:47:37.823912Z",
     "shell.execute_reply.started": "2021-12-04T07:44:25.693943Z"
    },
    "papermill": {
     "duration": 0.066579,
     "end_time": "2021-12-04T07:47:37.824099",
     "exception": false,
     "start_time": "2021-12-04T07:47:37.757520",
     "status": "completed"
    },
    "tags": []
   },
   "outputs": [
    {
     "data": {
      "text/plain": [
       "Index(['20in Monitor', '27in 4K Gaming Monitor', '27in FHD Monitor',\n",
       "       '34in Ultrawide Monitor', 'AA Batteries (4-pack)',\n",
       "       'AAA Batteries (4-pack)', 'Apple Airpods Headphones',\n",
       "       'Bose SoundSport Headphones', 'Flatscreen TV', 'Google Phone',\n",
       "       'LG Dryer', 'LG Washing Machine', 'Lightning Charging Cable',\n",
       "       'Macbook Pro Laptop', 'ThinkPad Laptop', 'USB-C Charging Cable',\n",
       "       'Vareebadd Phone', 'Wired Headphones', 'iPhone'],\n",
       "      dtype='object', name='Product')"
      ]
     },
     "execution_count": 35,
     "metadata": {},
     "output_type": "execute_result"
    }
   ],
   "source": [
    "products"
   ]
  },
  {
   "cell_type": "code",
   "execution_count": 36,
   "id": "ce2611b2",
   "metadata": {
    "execution": {
     "iopub.execute_input": "2021-12-04T07:47:37.942620Z",
     "iopub.status.busy": "2021-12-04T07:47:37.942002Z",
     "iopub.status.idle": "2021-12-04T07:47:37.947269Z",
     "shell.execute_reply": "2021-12-04T07:47:37.947798Z",
     "shell.execute_reply.started": "2021-12-04T07:44:25.703522Z"
    },
    "papermill": {
     "duration": 0.066688,
     "end_time": "2021-12-04T07:47:37.947966",
     "exception": false,
     "start_time": "2021-12-04T07:47:37.881278",
     "status": "completed"
    },
    "tags": []
   },
   "outputs": [
    {
     "data": {
      "text/plain": [
       "Product\n",
       "20in Monitor                   4129\n",
       "27in 4K Gaming Monitor         6244\n",
       "27in FHD Monitor               7550\n",
       "34in Ultrawide Monitor         6199\n",
       "AA Batteries (4-pack)         27635\n",
       "AAA Batteries (4-pack)        31017\n",
       "Apple Airpods Headphones      15661\n",
       "Bose SoundSport Headphones    13457\n",
       "Flatscreen TV                  4819\n",
       "Google Phone                   5532\n",
       "LG Dryer                        646\n",
       "LG Washing Machine              666\n",
       "Lightning Charging Cable      23217\n",
       "Macbook Pro Laptop             4728\n",
       "ThinkPad Laptop                4130\n",
       "USB-C Charging Cable          23975\n",
       "Vareebadd Phone                2068\n",
       "Wired Headphones              20557\n",
       "iPhone                         6849\n",
       "Name: Quantity Ordered, dtype: int64"
      ]
     },
     "execution_count": 36,
     "metadata": {},
     "output_type": "execute_result"
    }
   ],
   "source": [
    "quantity_1"
   ]
  },
  {
   "cell_type": "code",
   "execution_count": 37,
   "id": "2fb490de",
   "metadata": {
    "execution": {
     "iopub.execute_input": "2021-12-04T07:47:38.064949Z",
     "iopub.status.busy": "2021-12-04T07:47:38.064297Z",
     "iopub.status.idle": "2021-12-04T07:47:38.070347Z",
     "shell.execute_reply": "2021-12-04T07:47:38.070853Z",
     "shell.execute_reply.started": "2021-12-04T07:44:25.718022Z"
    },
    "papermill": {
     "duration": 0.065906,
     "end_time": "2021-12-04T07:47:38.071014",
     "exception": false,
     "start_time": "2021-12-04T07:47:38.005108",
     "status": "completed"
    },
    "tags": []
   },
   "outputs": [
    {
     "data": {
      "text/plain": [
       "Product\n",
       "20in Monitor                   109.99\n",
       "27in 4K Gaming Monitor         389.99\n",
       "27in FHD Monitor               149.99\n",
       "34in Ultrawide Monitor         379.99\n",
       "AA Batteries (4-pack)            3.84\n",
       "AAA Batteries (4-pack)           2.99\n",
       "Apple Airpods Headphones       150.00\n",
       "Bose SoundSport Headphones      99.99\n",
       "Flatscreen TV                  300.00\n",
       "Google Phone                   600.00\n",
       "LG Dryer                       600.00\n",
       "LG Washing Machine             600.00\n",
       "Lightning Charging Cable        14.95\n",
       "Macbook Pro Laptop            1700.00\n",
       "ThinkPad Laptop                999.99\n",
       "USB-C Charging Cable            11.95\n",
       "Vareebadd Phone                400.00\n",
       "Wired Headphones                11.99\n",
       "iPhone                         700.00\n",
       "Name: Price Each, dtype: float64"
      ]
     },
     "execution_count": 37,
     "metadata": {},
     "output_type": "execute_result"
    }
   ],
   "source": [
    "prices"
   ]
  },
  {
   "cell_type": "code",
   "execution_count": 38,
   "id": "ddab8a35",
   "metadata": {
    "execution": {
     "iopub.execute_input": "2021-12-04T07:47:38.189853Z",
     "iopub.status.busy": "2021-12-04T07:47:38.189175Z",
     "iopub.status.idle": "2021-12-04T07:47:38.964619Z",
     "shell.execute_reply": "2021-12-04T07:47:38.965450Z",
     "shell.execute_reply.started": "2021-12-04T07:44:25.732340Z"
    },
    "papermill": {
     "duration": 0.83589,
     "end_time": "2021-12-04T07:47:38.965645",
     "exception": false,
     "start_time": "2021-12-04T07:47:38.129755",
     "status": "completed"
    },
    "tags": []
   },
   "outputs": [
    {
     "data": {
      "image/png": "[encoded data removed]",
      "text/plain": [
       "<Figure size 1152x576 with 2 Axes>"
      ]
     },
     "metadata": {},
     "output_type": "display_data"
    }
   ],
   "source": [
    "fig, axes = plt.subplots(1,2,sharex=True,figsize=(16,8))\n",
    "fig.suptitle('Analyzing Most Sold Products')\n",
    "\n",
    "axes[0].set_title('Sold product counts')\n",
    "axes[0].set_ylabel('Number of products that sold')\n",
    "sns.barplot(ax=axes[0], x=products, y=quantity_1.values)\n",
    "axes[0].set_xticklabels(products, rotation=90)\n",
    "\n",
    "axes[1].set_title('Products Prices')\n",
    "axes[1].set_ylabel('Each price for a product (USD)')\n",
    "sns.barplot(ax=axes[1], x=prices.index, y=prices.values)\n",
    "axes[1].set_xticklabels(prices.index, rotation=90)\n",
    "\n",
    "fig.show()"
   ]
  },
  {
   "cell_type": "code",
   "execution_count": 39,
   "id": "e6277ac3",
   "metadata": {
    "execution": {
     "iopub.execute_input": "2021-12-04T07:47:39.088453Z",
     "iopub.status.busy": "2021-12-04T07:47:39.087813Z",
     "iopub.status.idle": "2021-12-04T07:47:39.677698Z",
     "shell.execute_reply": "2021-12-04T07:47:39.678194Z",
     "shell.execute_reply.started": "2021-12-04T07:44:26.533616Z"
    },
    "papermill": {
     "duration": 0.652335,
     "end_time": "2021-12-04T07:47:39.678364",
     "exception": false,
     "start_time": "2021-12-04T07:47:39.026029",
     "status": "completed"
    },
    "tags": []
   },
   "outputs": [
    {
     "name": "stderr",
     "output_type": "stream",
     "text": [
      "/opt/conda/lib/python3.7/site-packages/ipykernel_launcher.py:6: UserWarning:\n",
      "\n",
      "FixedFormatter should only be used together with FixedLocator\n",
      "\n"
     ]
    },
    {
     "data": {
      "image/png": "[encoded data removed]",
      "text/plain": [
       "<Figure size 720x360 with 2 Axes>"
      ]
     },
     "metadata": {},
     "output_type": "display_data"
    }
   ],
   "source": [
    "fig,ax1 = plt.subplots(figsize=(10,5))\n",
    "fig.suptitle(\"Analyzing sold product counts and product prices.\")\n",
    "ax2=ax1.twinx()\n",
    "sns.barplot(ax=ax1, x=products, y=quantity_1.values)\n",
    "sns.lineplot(ax=ax2, x=products, y=prices.values)\n",
    "ax1.set_xticklabels(products, rotation='vertical', size=8)\n",
    "ax1.set_xlabel(\"Product Names\")\n",
    "ax1.set_ylabel(\"Product Order Counts\", labelpad=15)\n",
    "ax2.set_ylabel(\"Product Prices (USD)\", labelpad=15)\n",
    "fig.show()"
   ]
  },
  {
   "cell_type": "markdown",
   "id": "7c56af9d",
   "metadata": {
    "papermill": {
     "duration": 0.061856,
     "end_time": "2021-12-04T07:47:39.801992",
     "exception": false,
     "start_time": "2021-12-04T07:47:39.740136",
     "status": "completed"
    },
    "tags": []
   },
   "source": [
    "This indicates that the number of orders for cheap products such as AA Batteries (4-pack), AAA Batteries (4-pack), USB C charging cables and Lighting charging cables is much higher than the number of orders for non-cheap products."
   ]
  },
  {
   "cell_type": "markdown",
   "id": "7fab1d6b",
   "metadata": {
    "papermill": {
     "duration": 0.061964,
     "end_time": "2021-12-04T07:47:39.925597",
     "exception": false,
     "start_time": "2021-12-04T07:47:39.863633",
     "status": "completed"
    },
    "tags": []
   },
   "source": [
    "### Analyzing products that most often sold together"
   ]
  },
  {
   "cell_type": "code",
   "execution_count": 40,
   "id": "8aed1230",
   "metadata": {
    "execution": {
     "iopub.execute_input": "2021-12-04T07:47:40.056178Z",
     "iopub.status.busy": "2021-12-04T07:47:40.055434Z",
     "iopub.status.idle": "2021-12-04T07:47:40.125609Z",
     "shell.execute_reply": "2021-12-04T07:47:40.126148Z",
     "shell.execute_reply.started": "2021-12-04T07:44:27.144441Z"
    },
    "papermill": {
     "duration": 0.13723,
     "end_time": "2021-12-04T07:47:40.126329",
     "exception": false,
     "start_time": "2021-12-04T07:47:39.989099",
     "status": "completed"
    },
    "tags": []
   },
   "outputs": [
    {
     "data": {
      "text/html": [
       "<div>\n",
       "<style scoped>\n",
       "    .dataframe tbody tr th:only-of-type {\n",
       "        vertical-align: middle;\n",
       "    }\n",
       "\n",
       "    .dataframe tbody tr th {\n",
       "        vertical-align: top;\n",
       "    }\n",
       "\n",
       "    .dataframe thead th {\n",
       "        text-align: right;\n",
       "    }\n",
       "</style>\n",
       "<table border=\"1\" class=\"dataframe\">\n",
       "  <thead>\n",
       "    <tr style=\"text-align: right;\">\n",
       "      <th></th>\n",
       "      <th>Order ID</th>\n",
       "      <th>Product</th>\n",
       "      <th>Quantity Ordered</th>\n",
       "      <th>Price Each</th>\n",
       "      <th>Order Date</th>\n",
       "      <th>Purchase Address</th>\n",
       "      <th>month</th>\n",
       "      <th>sales</th>\n",
       "      <th>city</th>\n",
       "      <th>Hour</th>\n",
       "    </tr>\n",
       "  </thead>\n",
       "  <tbody>\n",
       "    <tr>\n",
       "      <th>46</th>\n",
       "      <td>236716</td>\n",
       "      <td>AA Batteries (4-pack)</td>\n",
       "      <td>2</td>\n",
       "      <td>3.84</td>\n",
       "      <td>08/17/19 20:12</td>\n",
       "      <td>84 Cedar St, San Francisco, CA 94016</td>\n",
       "      <td>8</td>\n",
       "      <td>7.68</td>\n",
       "      <td>San Francisco</td>\n",
       "      <td>20</td>\n",
       "    </tr>\n",
       "    <tr>\n",
       "      <th>47</th>\n",
       "      <td>236716</td>\n",
       "      <td>USB-C Charging Cable</td>\n",
       "      <td>1</td>\n",
       "      <td>11.95</td>\n",
       "      <td>08/17/19 20:12</td>\n",
       "      <td>84 Cedar St, San Francisco, CA 94016</td>\n",
       "      <td>8</td>\n",
       "      <td>11.95</td>\n",
       "      <td>San Francisco</td>\n",
       "      <td>20</td>\n",
       "    </tr>\n",
       "    <tr>\n",
       "      <th>60</th>\n",
       "      <td>236729</td>\n",
       "      <td>iPhone</td>\n",
       "      <td>1</td>\n",
       "      <td>700.00</td>\n",
       "      <td>08/09/19 09:28</td>\n",
       "      <td>635 Lake St, San Francisco, CA 94016</td>\n",
       "      <td>8</td>\n",
       "      <td>700.00</td>\n",
       "      <td>San Francisco</td>\n",
       "      <td>9</td>\n",
       "    </tr>\n",
       "    <tr>\n",
       "      <th>61</th>\n",
       "      <td>236729</td>\n",
       "      <td>Apple Airpods Headphones</td>\n",
       "      <td>1</td>\n",
       "      <td>150.00</td>\n",
       "      <td>08/09/19 09:28</td>\n",
       "      <td>635 Lake St, San Francisco, CA 94016</td>\n",
       "      <td>8</td>\n",
       "      <td>150.00</td>\n",
       "      <td>San Francisco</td>\n",
       "      <td>9</td>\n",
       "    </tr>\n",
       "    <tr>\n",
       "      <th>62</th>\n",
       "      <td>236730</td>\n",
       "      <td>Google Phone</td>\n",
       "      <td>1</td>\n",
       "      <td>600.00</td>\n",
       "      <td>08/02/19 10:17</td>\n",
       "      <td>445 Lincoln St, New York City, NY 10001</td>\n",
       "      <td>8</td>\n",
       "      <td>600.00</td>\n",
       "      <td>New York City</td>\n",
       "      <td>10</td>\n",
       "    </tr>\n",
       "  </tbody>\n",
       "</table>\n",
       "</div>"
      ],
      "text/plain": [
       "   Order ID                   Product  Quantity Ordered  Price Each  \\\n",
       "46   236716     AA Batteries (4-pack)                 2        3.84   \n",
       "47   236716      USB-C Charging Cable                 1       11.95   \n",
       "60   236729                    iPhone                 1      700.00   \n",
       "61   236729  Apple Airpods Headphones                 1      150.00   \n",
       "62   236730              Google Phone                 1      600.00   \n",
       "\n",
       "        Order Date                         Purchase Address  month   sales  \\\n",
       "46  08/17/19 20:12     84 Cedar St, San Francisco, CA 94016      8    7.68   \n",
       "47  08/17/19 20:12     84 Cedar St, San Francisco, CA 94016      8   11.95   \n",
       "60  08/09/19 09:28     635 Lake St, San Francisco, CA 94016      8  700.00   \n",
       "61  08/09/19 09:28     635 Lake St, San Francisco, CA 94016      8  150.00   \n",
       "62  08/02/19 10:17  445 Lincoln St, New York City, NY 10001      8  600.00   \n",
       "\n",
       "              city  Hour  \n",
       "46   San Francisco    20  \n",
       "47   San Francisco    20  \n",
       "60   San Francisco     9  \n",
       "61   San Francisco     9  \n",
       "62   New York City    10  "
      ]
     },
     "execution_count": 40,
     "metadata": {},
     "output_type": "execute_result"
    }
   ],
   "source": [
    "# duplicated data manipulate\n",
    "df = all_data[all_data['Order ID'].duplicated(keep=False)]\n",
    "df.head()"
   ]
  },
  {
   "cell_type": "code",
   "execution_count": 41,
   "id": "029cdaec",
   "metadata": {
    "execution": {
     "iopub.execute_input": "2021-12-04T07:47:40.255315Z",
     "iopub.status.busy": "2021-12-04T07:47:40.254726Z",
     "iopub.status.idle": "2021-12-04T07:47:41.180153Z",
     "shell.execute_reply": "2021-12-04T07:47:41.180694Z",
     "shell.execute_reply.started": "2021-12-04T07:44:27.230228Z"
    },
    "papermill": {
     "duration": 0.991588,
     "end_time": "2021-12-04T07:47:41.180865",
     "exception": false,
     "start_time": "2021-12-04T07:47:40.189277",
     "status": "completed"
    },
    "tags": []
   },
   "outputs": [
    {
     "name": "stderr",
     "output_type": "stream",
     "text": [
      "/opt/conda/lib/python3.7/site-packages/ipykernel_launcher.py:1: SettingWithCopyWarning:\n",
      "\n",
      "\n",
      "A value is trying to be set on a copy of a slice from a DataFrame.\n",
      "Try using .loc[row_indexer,col_indexer] = value instead\n",
      "\n",
      "See the caveats in the documentation: https://pandas.pydata.org/pandas-docs/stable/user_guide/indexing.html#returning-a-view-versus-a-copy\n",
      "\n"
     ]
    }
   ],
   "source": [
    "df['Grouped'] = df.groupby('Order ID')['Product'].transform(lambda x:','.join(x))"
   ]
  },
  {
   "cell_type": "code",
   "execution_count": 42,
   "id": "ae7b1a48",
   "metadata": {
    "execution": {
     "iopub.execute_input": "2021-12-04T07:47:41.309753Z",
     "iopub.status.busy": "2021-12-04T07:47:41.309099Z",
     "iopub.status.idle": "2021-12-04T07:47:41.322888Z",
     "shell.execute_reply": "2021-12-04T07:47:41.323396Z",
     "shell.execute_reply.started": "2021-12-04T07:44:28.221603Z"
    },
    "papermill": {
     "duration": 0.07986,
     "end_time": "2021-12-04T07:47:41.323564",
     "exception": false,
     "start_time": "2021-12-04T07:47:41.243704",
     "status": "completed"
    },
    "tags": []
   },
   "outputs": [
    {
     "data": {
      "text/html": [
       "<div>\n",
       "<style scoped>\n",
       "    .dataframe tbody tr th:only-of-type {\n",
       "        vertical-align: middle;\n",
       "    }\n",
       "\n",
       "    .dataframe tbody tr th {\n",
       "        vertical-align: top;\n",
       "    }\n",
       "\n",
       "    .dataframe thead th {\n",
       "        text-align: right;\n",
       "    }\n",
       "</style>\n",
       "<table border=\"1\" class=\"dataframe\">\n",
       "  <thead>\n",
       "    <tr style=\"text-align: right;\">\n",
       "      <th></th>\n",
       "      <th>Order ID</th>\n",
       "      <th>Product</th>\n",
       "      <th>Quantity Ordered</th>\n",
       "      <th>Price Each</th>\n",
       "      <th>Order Date</th>\n",
       "      <th>Purchase Address</th>\n",
       "      <th>month</th>\n",
       "      <th>sales</th>\n",
       "      <th>city</th>\n",
       "      <th>Hour</th>\n",
       "      <th>Grouped</th>\n",
       "    </tr>\n",
       "  </thead>\n",
       "  <tbody>\n",
       "    <tr>\n",
       "      <th>46</th>\n",
       "      <td>236716</td>\n",
       "      <td>AA Batteries (4-pack)</td>\n",
       "      <td>2</td>\n",
       "      <td>3.84</td>\n",
       "      <td>08/17/19 20:12</td>\n",
       "      <td>84 Cedar St, San Francisco, CA 94016</td>\n",
       "      <td>8</td>\n",
       "      <td>7.68</td>\n",
       "      <td>San Francisco</td>\n",
       "      <td>20</td>\n",
       "      <td>AA Batteries (4-pack),USB-C Charging Cable</td>\n",
       "    </tr>\n",
       "    <tr>\n",
       "      <th>47</th>\n",
       "      <td>236716</td>\n",
       "      <td>USB-C Charging Cable</td>\n",
       "      <td>1</td>\n",
       "      <td>11.95</td>\n",
       "      <td>08/17/19 20:12</td>\n",
       "      <td>84 Cedar St, San Francisco, CA 94016</td>\n",
       "      <td>8</td>\n",
       "      <td>11.95</td>\n",
       "      <td>San Francisco</td>\n",
       "      <td>20</td>\n",
       "      <td>AA Batteries (4-pack),USB-C Charging Cable</td>\n",
       "    </tr>\n",
       "    <tr>\n",
       "      <th>60</th>\n",
       "      <td>236729</td>\n",
       "      <td>iPhone</td>\n",
       "      <td>1</td>\n",
       "      <td>700.00</td>\n",
       "      <td>08/09/19 09:28</td>\n",
       "      <td>635 Lake St, San Francisco, CA 94016</td>\n",
       "      <td>8</td>\n",
       "      <td>700.00</td>\n",
       "      <td>San Francisco</td>\n",
       "      <td>9</td>\n",
       "      <td>iPhone,Apple Airpods Headphones</td>\n",
       "    </tr>\n",
       "    <tr>\n",
       "      <th>61</th>\n",
       "      <td>236729</td>\n",
       "      <td>Apple Airpods Headphones</td>\n",
       "      <td>1</td>\n",
       "      <td>150.00</td>\n",
       "      <td>08/09/19 09:28</td>\n",
       "      <td>635 Lake St, San Francisco, CA 94016</td>\n",
       "      <td>8</td>\n",
       "      <td>150.00</td>\n",
       "      <td>San Francisco</td>\n",
       "      <td>9</td>\n",
       "      <td>iPhone,Apple Airpods Headphones</td>\n",
       "    </tr>\n",
       "    <tr>\n",
       "      <th>62</th>\n",
       "      <td>236730</td>\n",
       "      <td>Google Phone</td>\n",
       "      <td>1</td>\n",
       "      <td>600.00</td>\n",
       "      <td>08/02/19 10:17</td>\n",
       "      <td>445 Lincoln St, New York City, NY 10001</td>\n",
       "      <td>8</td>\n",
       "      <td>600.00</td>\n",
       "      <td>New York City</td>\n",
       "      <td>10</td>\n",
       "      <td>Google Phone,Wired Headphones</td>\n",
       "    </tr>\n",
       "  </tbody>\n",
       "</table>\n",
       "</div>"
      ],
      "text/plain": [
       "   Order ID                   Product  Quantity Ordered  Price Each  \\\n",
       "46   236716     AA Batteries (4-pack)                 2        3.84   \n",
       "47   236716      USB-C Charging Cable                 1       11.95   \n",
       "60   236729                    iPhone                 1      700.00   \n",
       "61   236729  Apple Airpods Headphones                 1      150.00   \n",
       "62   236730              Google Phone                 1      600.00   \n",
       "\n",
       "        Order Date                         Purchase Address  month   sales  \\\n",
       "46  08/17/19 20:12     84 Cedar St, San Francisco, CA 94016      8    7.68   \n",
       "47  08/17/19 20:12     84 Cedar St, San Francisco, CA 94016      8   11.95   \n",
       "60  08/09/19 09:28     635 Lake St, San Francisco, CA 94016      8  700.00   \n",
       "61  08/09/19 09:28     635 Lake St, San Francisco, CA 94016      8  150.00   \n",
       "62  08/02/19 10:17  445 Lincoln St, New York City, NY 10001      8  600.00   \n",
       "\n",
       "              city  Hour                                     Grouped  \n",
       "46   San Francisco    20  AA Batteries (4-pack),USB-C Charging Cable  \n",
       "47   San Francisco    20  AA Batteries (4-pack),USB-C Charging Cable  \n",
       "60   San Francisco     9             iPhone,Apple Airpods Headphones  \n",
       "61   San Francisco     9             iPhone,Apple Airpods Headphones  \n",
       "62   New York City    10               Google Phone,Wired Headphones  "
      ]
     },
     "execution_count": 42,
     "metadata": {},
     "output_type": "execute_result"
    }
   ],
   "source": [
    "df.head()"
   ]
  },
  {
   "cell_type": "code",
   "execution_count": 43,
   "id": "f9ce5bac",
   "metadata": {
    "execution": {
     "iopub.execute_input": "2021-12-04T07:47:41.453799Z",
     "iopub.status.busy": "2021-12-04T07:47:41.452795Z",
     "iopub.status.idle": "2021-12-04T07:47:41.476715Z",
     "shell.execute_reply": "2021-12-04T07:47:41.477246Z",
     "shell.execute_reply.started": "2021-12-04T07:44:28.240432Z"
    },
    "papermill": {
     "duration": 0.091024,
     "end_time": "2021-12-04T07:47:41.477414",
     "exception": false,
     "start_time": "2021-12-04T07:47:41.386390",
     "status": "completed"
    },
    "tags": []
   },
   "outputs": [
    {
     "data": {
      "text/html": [
       "<div>\n",
       "<style scoped>\n",
       "    .dataframe tbody tr th:only-of-type {\n",
       "        vertical-align: middle;\n",
       "    }\n",
       "\n",
       "    .dataframe tbody tr th {\n",
       "        vertical-align: top;\n",
       "    }\n",
       "\n",
       "    .dataframe thead th {\n",
       "        text-align: right;\n",
       "    }\n",
       "</style>\n",
       "<table border=\"1\" class=\"dataframe\">\n",
       "  <thead>\n",
       "    <tr style=\"text-align: right;\">\n",
       "      <th></th>\n",
       "      <th>Order ID</th>\n",
       "      <th>Product</th>\n",
       "      <th>Quantity Ordered</th>\n",
       "      <th>Price Each</th>\n",
       "      <th>Order Date</th>\n",
       "      <th>Purchase Address</th>\n",
       "      <th>month</th>\n",
       "      <th>sales</th>\n",
       "      <th>city</th>\n",
       "      <th>Hour</th>\n",
       "      <th>Grouped</th>\n",
       "    </tr>\n",
       "  </thead>\n",
       "  <tbody>\n",
       "    <tr>\n",
       "      <th>46</th>\n",
       "      <td>236716</td>\n",
       "      <td>AA Batteries (4-pack)</td>\n",
       "      <td>2</td>\n",
       "      <td>3.84</td>\n",
       "      <td>08/17/19 20:12</td>\n",
       "      <td>84 Cedar St, San Francisco, CA 94016</td>\n",
       "      <td>8</td>\n",
       "      <td>7.68</td>\n",
       "      <td>San Francisco</td>\n",
       "      <td>20</td>\n",
       "      <td>AA Batteries (4-pack),USB-C Charging Cable</td>\n",
       "    </tr>\n",
       "    <tr>\n",
       "      <th>60</th>\n",
       "      <td>236729</td>\n",
       "      <td>iPhone</td>\n",
       "      <td>1</td>\n",
       "      <td>700.00</td>\n",
       "      <td>08/09/19 09:28</td>\n",
       "      <td>635 Lake St, San Francisco, CA 94016</td>\n",
       "      <td>8</td>\n",
       "      <td>700.00</td>\n",
       "      <td>San Francisco</td>\n",
       "      <td>9</td>\n",
       "      <td>iPhone,Apple Airpods Headphones</td>\n",
       "    </tr>\n",
       "    <tr>\n",
       "      <th>62</th>\n",
       "      <td>236730</td>\n",
       "      <td>Google Phone</td>\n",
       "      <td>1</td>\n",
       "      <td>600.00</td>\n",
       "      <td>08/02/19 10:17</td>\n",
       "      <td>445 Lincoln St, New York City, NY 10001</td>\n",
       "      <td>8</td>\n",
       "      <td>600.00</td>\n",
       "      <td>New York City</td>\n",
       "      <td>10</td>\n",
       "      <td>Google Phone,Wired Headphones</td>\n",
       "    </tr>\n",
       "    <tr>\n",
       "      <th>132</th>\n",
       "      <td>236799</td>\n",
       "      <td>Google Phone</td>\n",
       "      <td>1</td>\n",
       "      <td>600.00</td>\n",
       "      <td>08/01/19 12:38</td>\n",
       "      <td>309 2nd St, San Francisco, CA 94016</td>\n",
       "      <td>8</td>\n",
       "      <td>600.00</td>\n",
       "      <td>San Francisco</td>\n",
       "      <td>12</td>\n",
       "      <td>Google Phone,Wired Headphones</td>\n",
       "    </tr>\n",
       "    <tr>\n",
       "      <th>163</th>\n",
       "      <td>236829</td>\n",
       "      <td>Vareebadd Phone</td>\n",
       "      <td>1</td>\n",
       "      <td>400.00</td>\n",
       "      <td>08/16/19 08:51</td>\n",
       "      <td>27 2nd St, Los Angeles, CA 90001</td>\n",
       "      <td>8</td>\n",
       "      <td>400.00</td>\n",
       "      <td>Los Angeles</td>\n",
       "      <td>8</td>\n",
       "      <td>Vareebadd Phone,USB-C Charging Cable</td>\n",
       "    </tr>\n",
       "  </tbody>\n",
       "</table>\n",
       "</div>"
      ],
      "text/plain": [
       "    Order ID                Product  Quantity Ordered  Price Each  \\\n",
       "46    236716  AA Batteries (4-pack)                 2        3.84   \n",
       "60    236729                 iPhone                 1      700.00   \n",
       "62    236730           Google Phone                 1      600.00   \n",
       "132   236799           Google Phone                 1      600.00   \n",
       "163   236829        Vareebadd Phone                 1      400.00   \n",
       "\n",
       "         Order Date                         Purchase Address  month   sales  \\\n",
       "46   08/17/19 20:12     84 Cedar St, San Francisco, CA 94016      8    7.68   \n",
       "60   08/09/19 09:28     635 Lake St, San Francisco, CA 94016      8  700.00   \n",
       "62   08/02/19 10:17  445 Lincoln St, New York City, NY 10001      8  600.00   \n",
       "132  08/01/19 12:38      309 2nd St, San Francisco, CA 94016      8  600.00   \n",
       "163  08/16/19 08:51         27 2nd St, Los Angeles, CA 90001      8  400.00   \n",
       "\n",
       "               city  Hour                                     Grouped  \n",
       "46    San Francisco    20  AA Batteries (4-pack),USB-C Charging Cable  \n",
       "60    San Francisco     9             iPhone,Apple Airpods Headphones  \n",
       "62    New York City    10               Google Phone,Wired Headphones  \n",
       "132   San Francisco    12               Google Phone,Wired Headphones  \n",
       "163     Los Angeles     8        Vareebadd Phone,USB-C Charging Cable  "
      ]
     },
     "execution_count": 43,
     "metadata": {},
     "output_type": "execute_result"
    }
   ],
   "source": [
    "# drop duplicates data according to Order ID\n",
    "df2 = df.drop_duplicates(subset=['Order ID'])\n",
    "df2.head()"
   ]
  },
  {
   "cell_type": "code",
   "execution_count": 44,
   "id": "42076e86",
   "metadata": {
    "execution": {
     "iopub.execute_input": "2021-12-04T07:47:41.608520Z",
     "iopub.status.busy": "2021-12-04T07:47:41.607594Z",
     "iopub.status.idle": "2021-12-04T07:47:41.618479Z",
     "shell.execute_reply": "2021-12-04T07:47:41.619047Z",
     "shell.execute_reply.started": "2021-12-04T07:44:28.275723Z"
    },
    "papermill": {
     "duration": 0.077933,
     "end_time": "2021-12-04T07:47:41.619249",
     "exception": false,
     "start_time": "2021-12-04T07:47:41.541316",
     "status": "completed"
    },
    "tags": []
   },
   "outputs": [],
   "source": [
    "labels = df['Grouped'].value_counts()[0:5].index\n",
    "counts = df2['Grouped'].value_counts()[0:5]"
   ]
  },
  {
   "cell_type": "code",
   "execution_count": 45,
   "id": "ea6713eb",
   "metadata": {
    "execution": {
     "iopub.execute_input": "2021-12-04T07:47:41.751914Z",
     "iopub.status.busy": "2021-12-04T07:47:41.750896Z",
     "iopub.status.idle": "2021-12-04T07:47:41.792638Z",
     "shell.execute_reply": "2021-12-04T07:47:41.793201Z",
     "shell.execute_reply.started": "2021-12-04T07:44:28.289613Z"
    },
    "papermill": {
     "duration": 0.10986,
     "end_time": "2021-12-04T07:47:41.793376",
     "exception": false,
     "start_time": "2021-12-04T07:47:41.683516",
     "status": "completed"
    },
    "tags": []
   },
   "outputs": [],
   "source": [
    "trace = go.Pie(labels=labels,\n",
    "              values=counts,\n",
    "              hoverinfo='label+percent',\n",
    "              textinfo='value',\n",
    "              textfont=dict(size=25),\n",
    "              pull=[0,0,0,0.2,0])"
   ]
  },
  {
   "cell_type": "code",
   "execution_count": 46,
   "id": "2ae51749",
   "metadata": {
    "execution": {
     "iopub.execute_input": "2021-12-04T07:47:41.926488Z",
     "iopub.status.busy": "2021-12-04T07:47:41.925515Z",
     "iopub.status.idle": "2021-12-04T07:47:42.736190Z",
     "shell.execute_reply": "2021-12-04T07:47:42.736695Z",
     "shell.execute_reply.started": "2021-12-04T07:44:28.303667Z"
    },
    "papermill": {
     "duration": 0.878567,
     "end_time": "2021-12-04T07:47:42.736888",
     "exception": false,
     "start_time": "2021-12-04T07:47:41.858321",
     "status": "completed"
    },
    "tags": []
   },
   "outputs": [
    {
     "data": {
      "text/html": [
       "        <script type=\"text/javascript\">\n",
       "        window.PlotlyConfig = {MathJaxConfig: 'local'};\n",
       "        if (window.MathJax) {MathJax.Hub.Config({SVG: {font: \"STIX-Web\"}});}\n",
       "        if (typeof require !== 'undefined') {\n",
       "        require.undef(\"plotly\");\n",
       "        requirejs.config({\n",
       "            paths: {\n",
       "                'plotly': ['https://cdn.plot.ly/plotly-2.4.2.min']\n",
       "            }\n",
       "        });\n",
       "        require(['plotly'], function(Plotly) {\n",
       "            window._Plotly = Plotly;\n",
       "        });\n",
       "        }\n",
       "        </script>\n",
       "        "
      ]
     },
     "metadata": {},
     "output_type": "display_data"
    },
    {
     "data": {
      "text/html": [
       "<div>                            <div id=\"6aa81f2a-2d2b-4a63-ae71-5b94c8260124\" class=\"plotly-graph-div\" style=\"height:525px; width:100%;\"></div>            <script type=\"text/javascript\">                require([\"plotly\"], function(Plotly) {                    window.PLOTLYENV=window.PLOTLYENV || {};                                    if (document.getElementById(\"6aa81f2a-2d2b-4a63-ae71-5b94c8260124\")) {                    Plotly.newPlot(                        \"6aa81f2a-2d2b-4a63-ae71-5b94c8260124\",                        [{\"hoverinfo\":\"label+percent\",\"labels\":[\"iPhone,Lightning Charging Cable\",\"Google Phone,USB-C Charging Cable\",\"iPhone,Wired Headphones\",\"Vareebadd Phone,USB-C Charging Cable\",\"Google Phone,Wired Headphones\"],\"pull\":[0,0,0,0.2,0],\"textfont\":{\"size\":25},\"textinfo\":\"value\",\"type\":\"pie\",\"values\":[882,856,361,312,303]}],                        {\"template\":{\"data\":{\"bar\":[{\"error_x\":{\"color\":\"#2a3f5f\"},\"error_y\":{\"color\":\"#2a3f5f\"},\"marker\":{\"line\":{\"color\":\"#E5ECF6\",\"width\":0.5},\"pattern\":{\"fillmode\":\"overlay\",\"size\":10,\"solidity\":0.2}},\"type\":\"bar\"}],\"barpolar\":[{\"marker\":{\"line\":{\"color\":\"#E5ECF6\",\"width\":0.5},\"pattern\":{\"fillmode\":\"overlay\",\"size\":10,\"solidity\":0.2}},\"type\":\"barpolar\"}],\"carpet\":[{\"aaxis\":{\"endlinecolor\":\"#2a3f5f\",\"gridcolor\":\"white\",\"linecolor\":\"white\",\"minorgridcolor\":\"white\",\"startlinecolor\":\"#2a3f5f\"},\"baxis\":{\"endlinecolor\":\"#2a3f5f\",\"gridcolor\":\"white\",\"linecolor\":\"white\",\"minorgridcolor\":\"white\",\"startlinecolor\":\"#2a3f5f\"},\"type\":\"carpet\"}],\"choropleth\":[{\"colorbar\":{\"outlinewidth\":0,\"ticks\":\"\"},\"type\":\"choropleth\"}],\"contour\":[{\"colorbar\":{\"outlinewidth\":0,\"ticks\":\"\"},\"colorscale\":[[0.0,\"#0d0887\"],[0.1111111111111111,\"#46039f\"],[0.2222222222222222,\"#7201a8\"],[0.3333333333333333,\"#9c179e\"],[0.4444444444444444,\"#bd3786\"],[0.5555555555555556,\"#d8576b\"],[0.6666666666666666,\"#ed7953\"],[0.7777777777777778,\"#fb9f3a\"],[0.8888888888888888,\"#fdca26\"],[1.0,\"#f0f921\"]],\"type\":\"contour\"}],\"contourcarpet\":[{\"colorbar\":{\"outlinewidth\":0,\"ticks\":\"\"},\"type\":\"contourcarpet\"}],\"heatmap\":[{\"colorbar\":{\"outlinewidth\":0,\"ticks\":\"\"},\"colorscale\":[[0.0,\"#0d0887\"],[0.1111111111111111,\"#46039f\"],[0.2222222222222222,\"#7201a8\"],[0.3333333333333333,\"#9c179e\"],[0.4444444444444444,\"#bd3786\"],[0.5555555555555556,\"#d8576b\"],[0.6666666666666666,\"#ed7953\"],[0.7777777777777778,\"#fb9f3a\"],[0.8888888888888888,\"#fdca26\"],[1.0,\"#f0f921\"]],\"type\":\"heatmap\"}],\"heatmapgl\":[{\"colorbar\":{\"outlinewidth\":0,\"ticks\":\"\"},\"colorscale\":[[0.0,\"#0d0887\"],[0.1111111111111111,\"#46039f\"],[0.2222222222222222,\"#7201a8\"],[0.3333333333333333,\"#9c179e\"],[0.4444444444444444,\"#bd3786\"],[0.5555555555555556,\"#d8576b\"],[0.6666666666666666,\"#ed7953\"],[0.7777777777777778,\"#fb9f3a\"],[0.8888888888888888,\"#fdca26\"],[1.0,\"#f0f921\"]],\"type\":\"heatmapgl\"}],\"histogram\":[{\"marker\":{\"pattern\":{\"fillmode\":\"overlay\",\"size\":10,\"solidity\":0.2}},\"type\":\"histogram\"}],\"histogram2d\":[{\"colorbar\":{\"outlinewidth\":0,\"ticks\":\"\"},\"colorscale\":[[0.0,\"#0d0887\"],[0.1111111111111111,\"#46039f\"],[0.2222222222222222,\"#7201a8\"],[0.3333333333333333,\"#9c179e\"],[0.4444444444444444,\"#bd3786\"],[0.5555555555555556,\"#d8576b\"],[0.6666666666666666,\"#ed7953\"],[0.7777777777777778,\"#fb9f3a\"],[0.8888888888888888,\"#fdca26\"],[1.0,\"#f0f921\"]],\"type\":\"histogram2d\"}],\"histogram2dcontour\":[{\"colorbar\":{\"outlinewidth\":0,\"ticks\":\"\"},\"colorscale\":[[0.0,\"#0d0887\"],[0.1111111111111111,\"#46039f\"],[0.2222222222222222,\"#7201a8\"],[0.3333333333333333,\"#9c179e\"],[0.4444444444444444,\"#bd3786\"],[0.5555555555555556,\"#d8576b\"],[0.6666666666666666,\"#ed7953\"],[0.7777777777777778,\"#fb9f3a\"],[0.8888888888888888,\"#fdca26\"],[1.0,\"#f0f921\"]],\"type\":\"histogram2dcontour\"}],\"mesh3d\":[{\"colorbar\":{\"outlinewidth\":0,\"ticks\":\"\"},\"type\":\"mesh3d\"}],\"parcoords\":[{\"line\":{\"colorbar\":{\"outlinewidth\":0,\"ticks\":\"\"}},\"type\":\"parcoords\"}],\"pie\":[{\"automargin\":true,\"type\":\"pie\"}],\"scatter\":[{\"marker\":{\"colorbar\":{\"outlinewidth\":0,\"ticks\":\"\"}},\"type\":\"scatter\"}],\"scatter3d\":[{\"line\":{\"colorbar\":{\"outlinewidth\":0,\"ticks\":\"\"}},\"marker\":{\"colorbar\":{\"outlinewidth\":0,\"ticks\":\"\"}},\"type\":\"scatter3d\"}],\"scattercarpet\":[{\"marker\":{\"colorbar\":{\"outlinewidth\":0,\"ticks\":\"\"}},\"type\":\"scattercarpet\"}],\"scattergeo\":[{\"marker\":{\"colorbar\":{\"outlinewidth\":0,\"ticks\":\"\"}},\"type\":\"scattergeo\"}],\"scattergl\":[{\"marker\":{\"colorbar\":{\"outlinewidth\":0,\"ticks\":\"\"}},\"type\":\"scattergl\"}],\"scattermapbox\":[{\"marker\":{\"colorbar\":{\"outlinewidth\":0,\"ticks\":\"\"}},\"type\":\"scattermapbox\"}],\"scatterpolar\":[{\"marker\":{\"colorbar\":{\"outlinewidth\":0,\"ticks\":\"\"}},\"type\":\"scatterpolar\"}],\"scatterpolargl\":[{\"marker\":{\"colorbar\":{\"outlinewidth\":0,\"ticks\":\"\"}},\"type\":\"scatterpolargl\"}],\"scatterternary\":[{\"marker\":{\"colorbar\":{\"outlinewidth\":0,\"ticks\":\"\"}},\"type\":\"scatterternary\"}],\"surface\":[{\"colorbar\":{\"outlinewidth\":0,\"ticks\":\"\"},\"colorscale\":[[0.0,\"#0d0887\"],[0.1111111111111111,\"#46039f\"],[0.2222222222222222,\"#7201a8\"],[0.3333333333333333,\"#9c179e\"],[0.4444444444444444,\"#bd3786\"],[0.5555555555555556,\"#d8576b\"],[0.6666666666666666,\"#ed7953\"],[0.7777777777777778,\"#fb9f3a\"],[0.8888888888888888,\"#fdca26\"],[1.0,\"#f0f921\"]],\"type\":\"surface\"}],\"table\":[{\"cells\":{\"fill\":{\"color\":\"#EBF0F8\"},\"line\":{\"color\":\"white\"}},\"header\":{\"fill\":{\"color\":\"#C8D4E3\"},\"line\":{\"color\":\"white\"}},\"type\":\"table\"}]},\"layout\":{\"annotationdefaults\":{\"arrowcolor\":\"#2a3f5f\",\"arrowhead\":0,\"arrowwidth\":1},\"autotypenumbers\":\"strict\",\"coloraxis\":{\"colorbar\":{\"outlinewidth\":0,\"ticks\":\"\"}},\"colorscale\":{\"diverging\":[[0,\"#8e0152\"],[0.1,\"#c51b7d\"],[0.2,\"#de77ae\"],[0.3,\"#f1b6da\"],[0.4,\"#fde0ef\"],[0.5,\"#f7f7f7\"],[0.6,\"#e6f5d0\"],[0.7,\"#b8e186\"],[0.8,\"#7fbc41\"],[0.9,\"#4d9221\"],[1,\"#276419\"]],\"sequential\":[[0.0,\"#0d0887\"],[0.1111111111111111,\"#46039f\"],[0.2222222222222222,\"#7201a8\"],[0.3333333333333333,\"#9c179e\"],[0.4444444444444444,\"#bd3786\"],[0.5555555555555556,\"#d8576b\"],[0.6666666666666666,\"#ed7953\"],[0.7777777777777778,\"#fb9f3a\"],[0.8888888888888888,\"#fdca26\"],[1.0,\"#f0f921\"]],\"sequentialminus\":[[0.0,\"#0d0887\"],[0.1111111111111111,\"#46039f\"],[0.2222222222222222,\"#7201a8\"],[0.3333333333333333,\"#9c179e\"],[0.4444444444444444,\"#bd3786\"],[0.5555555555555556,\"#d8576b\"],[0.6666666666666666,\"#ed7953\"],[0.7777777777777778,\"#fb9f3a\"],[0.8888888888888888,\"#fdca26\"],[1.0,\"#f0f921\"]]},\"colorway\":[\"#636efa\",\"#EF553B\",\"#00cc96\",\"#ab63fa\",\"#FFA15A\",\"#19d3f3\",\"#FF6692\",\"#B6E880\",\"#FF97FF\",\"#FECB52\"],\"font\":{\"color\":\"#2a3f5f\"},\"geo\":{\"bgcolor\":\"white\",\"lakecolor\":\"white\",\"landcolor\":\"#E5ECF6\",\"showlakes\":true,\"showland\":true,\"subunitcolor\":\"white\"},\"hoverlabel\":{\"align\":\"left\"},\"hovermode\":\"closest\",\"mapbox\":{\"style\":\"light\"},\"paper_bgcolor\":\"white\",\"plot_bgcolor\":\"#E5ECF6\",\"polar\":{\"angularaxis\":{\"gridcolor\":\"white\",\"linecolor\":\"white\",\"ticks\":\"\"},\"bgcolor\":\"#E5ECF6\",\"radialaxis\":{\"gridcolor\":\"white\",\"linecolor\":\"white\",\"ticks\":\"\"}},\"scene\":{\"xaxis\":{\"backgroundcolor\":\"#E5ECF6\",\"gridcolor\":\"white\",\"gridwidth\":2,\"linecolor\":\"white\",\"showbackground\":true,\"ticks\":\"\",\"zerolinecolor\":\"white\"},\"yaxis\":{\"backgroundcolor\":\"#E5ECF6\",\"gridcolor\":\"white\",\"gridwidth\":2,\"linecolor\":\"white\",\"showbackground\":true,\"ticks\":\"\",\"zerolinecolor\":\"white\"},\"zaxis\":{\"backgroundcolor\":\"#E5ECF6\",\"gridcolor\":\"white\",\"gridwidth\":2,\"linecolor\":\"white\",\"showbackground\":true,\"ticks\":\"\",\"zerolinecolor\":\"white\"}},\"shapedefaults\":{\"line\":{\"color\":\"#2a3f5f\"}},\"ternary\":{\"aaxis\":{\"gridcolor\":\"white\",\"linecolor\":\"white\",\"ticks\":\"\"},\"baxis\":{\"gridcolor\":\"white\",\"linecolor\":\"white\",\"ticks\":\"\"},\"bgcolor\":\"#E5ECF6\",\"caxis\":{\"gridcolor\":\"white\",\"linecolor\":\"white\",\"ticks\":\"\"}},\"title\":{\"x\":0.05},\"xaxis\":{\"automargin\":true,\"gridcolor\":\"white\",\"linecolor\":\"white\",\"ticks\":\"\",\"title\":{\"standoff\":15},\"zerolinecolor\":\"white\",\"zerolinewidth\":2},\"yaxis\":{\"automargin\":true,\"gridcolor\":\"white\",\"linecolor\":\"white\",\"ticks\":\"\",\"title\":{\"standoff\":15},\"zerolinecolor\":\"white\",\"zerolinewidth\":2}}}},                        {\"responsive\": true}                    ).then(function(){\n",
       "                            \n",
       "var gd = document.getElementById('6aa81f2a-2d2b-4a63-ae71-5b94c8260124');\n",
       "var x = new MutationObserver(function (mutations, observer) {{\n",
       "        var display = window.getComputedStyle(gd).display;\n",
       "        if (!display || display === 'none') {{\n",
       "            console.log([gd, 'removed!']);\n",
       "            Plotly.purge(gd);\n",
       "            observer.disconnect();\n",
       "        }}\n",
       "}});\n",
       "\n",
       "// Listen for the removal of the full notebook cells\n",
       "var notebookContainer = gd.closest('#notebook-container');\n",
       "if (notebookContainer) {{\n",
       "    x.observe(notebookContainer, {childList: true});\n",
       "}}\n",
       "\n",
       "// Listen for the clearing of the current output cell\n",
       "var outputEl = gd.closest('.output');\n",
       "if (outputEl) {{\n",
       "    x.observe(outputEl, {childList: true});\n",
       "}}\n",
       "\n",
       "                        })                };                });            </script>        </div>"
      ]
     },
     "metadata": {},
     "output_type": "display_data"
    }
   ],
   "source": [
    "iplot([trace])"
   ]
  }
 ],
 "metadata": {
  "kernelspec": {
   "display_name": "Python 3",
   "language": "python",
   "name": "python3"
  },
  "language_info": {
   "codemirror_mode": {
    "name": "ipython",
    "version": 3
   },
   "file_extension": ".py",
   "mimetype": "text/x-python",
   "name": "python",
   "nbconvert_exporter": "python",
   "pygments_lexer": "ipython3",
   "version": "3.7.10"
  },
  "papermill": {
   "default_parameters": {},
   "duration": 43.443032,
   "end_time": "2021-12-04T07:47:43.612378",
   "environment_variables": {},
   "exception": null,
   "input_path": "__notebook__.ipynb",
   "output_path": "__notebook__.ipynb",
   "parameters": {},
   "start_time": "2021-12-04T07:47:00.169346",
   "version": "2.3.3"
  }
 },
 "nbformat": 4,
 "nbformat_minor": 5
}
